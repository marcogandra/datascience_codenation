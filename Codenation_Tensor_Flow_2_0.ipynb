{
  "nbformat": 4,
  "nbformat_minor": 0,
  "metadata": {
    "colab": {
      "name": "Codenation Tensor Flow 2.0.ipynb",
      "provenance": [],
      "authorship_tag": "ABX9TyP5gWBYUjAX9E5bZ1X8kElf",
      "include_colab_link": true
    },
    "kernelspec": {
      "name": "python3",
      "display_name": "Python 3"
    }
  },
  "cells": [
    {
      "cell_type": "markdown",
      "metadata": {
        "id": "view-in-github",
        "colab_type": "text"
      },
      "source": [
        "<a href=\"https://colab.research.google.com/github/vvalcristina/datascience_codenation/blob/master/Codenation_Tensor_Flow_2_0.ipynb\" target=\"_parent\"><img src=\"https://colab.research.google.com/assets/colab-badge.svg\" alt=\"Open In Colab\"/></a>"
      ]
    },
    {
      "cell_type": "markdown",
      "metadata": {
        "id": "9HIVS_NZWK_o",
        "colab_type": "text"
      },
      "source": [
        "**Tensor Flow 2.0**"
      ]
    },
    {
      "cell_type": "code",
      "metadata": {
        "id": "x6cAvBjtV3-f",
        "colab_type": "code",
        "colab": {
          "base_uri": "https://localhost:8080/",
          "height": 51
        },
        "outputId": "7fe95d89-8f7e-4ab1-c719-f224f858d279"
      },
      "source": [
        "!pip uninstall -y tensorflow"
      ],
      "execution_count": 1,
      "outputs": [
        {
          "output_type": "stream",
          "text": [
            "Uninstalling tensorflow-2.2.0:\n",
            "  Successfully uninstalled tensorflow-2.2.0\n"
          ],
          "name": "stdout"
        }
      ]
    }
  ]
}