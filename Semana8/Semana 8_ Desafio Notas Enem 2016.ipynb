{
 "cells": [
  {
   "cell_type": "markdown",
   "metadata": {},
   "source": [
    "## Semana 8 - AceleraDev DataScience Codenation\n",
    "\n",
    "**Descubra as melhores notas de matemática do ENEM 2016**\n",
    "\n",
    "\n",
    "Você deverá criar um modelo para prever a nota da prova de matemática de quem participou do ENEM 2016. Para isso, usará Python, Pandas, Sklearn e Regression.\n",
    "\n",
    "O contexto do desafio gira em torno dos resultados do ENEM 2016 (disponíveis no arquivo train.csv). Este arquivo, e apenas ele, deve ser utilizado para todos os desafios. \n",
    "\n",
    "No arquivo test.csv crie um modelo para prever nota da prova de matemática (coluna NU_NOTA_MT) de quem participou do ENEM 2016.\n",
    "\n",
    "Salve sua resposta em um arquivo chamado **answer.csv** com duas colunas: **NU_INSCRICAO e NU_NOTA_MT**."
   ]
  },
  {
   "cell_type": "markdown",
   "metadata": {},
   "source": [
    "### Setup do desafio\n",
    "\n",
    "Iniciamos o desafio com os imports das libs necessárias"
   ]
  },
  {
   "cell_type": "code",
   "execution_count": 1,
   "metadata": {},
   "outputs": [],
   "source": [
    "import pandas as pd\n",
    "import numpy as np\n",
    "from sklearn import metrics\n",
    "import matplotlib.pyplot as plt\n",
    "import seaborn as sns"
   ]
  },
  {
   "cell_type": "markdown",
   "metadata": {},
   "source": [
    "O próximo passo na nossa análise é importar as bases de dados para realizar esse desafio.\n",
    "\n",
    "* Os dados do **df_train** serão utilizados para treinar o modelo de regressão desenvolvido aqui.\n",
    "\n",
    "* O **df_test** é onde iremos aplicar o modelo que foi desenvolvido e treinado."
   ]
  },
  {
   "cell_type": "code",
   "execution_count": 2,
   "metadata": {},
   "outputs": [],
   "source": [
    "df_train = pd.read_csv('train.csv')"
   ]
  },
  {
   "cell_type": "code",
   "execution_count": 3,
   "metadata": {},
   "outputs": [],
   "source": [
    "df_test = pd.read_csv('test.csv')"
   ]
  },
  {
   "cell_type": "markdown",
   "metadata": {},
   "source": [
    "**Verificação das colunas**\n",
    "\n",
    "Antes de iniciar as análises  verificaremos quais colunas possuem os dois Data Sets utilizados."
   ]
  },
  {
   "cell_type": "code",
   "execution_count": 4,
   "metadata": {},
   "outputs": [
    {
     "data": {
      "text/plain": [
       "Index(['Unnamed: 0', 'NU_INSCRICAO', 'NU_ANO', 'CO_MUNICIPIO_RESIDENCIA',\n",
       "       'NO_MUNICIPIO_RESIDENCIA', 'CO_UF_RESIDENCIA', 'SG_UF_RESIDENCIA',\n",
       "       'NU_IDADE', 'TP_SEXO', 'TP_ESTADO_CIVIL',\n",
       "       ...\n",
       "       'Q041', 'Q042', 'Q043', 'Q044', 'Q045', 'Q046', 'Q047', 'Q048', 'Q049',\n",
       "       'Q050'],\n",
       "      dtype='object', length=167)"
      ]
     },
     "execution_count": 4,
     "metadata": {},
     "output_type": "execute_result"
    }
   ],
   "source": [
    "df_train.columns"
   ]
  },
  {
   "cell_type": "code",
   "execution_count": 5,
   "metadata": {},
   "outputs": [
    {
     "data": {
      "text/plain": [
       "Index(['NU_INSCRICAO', 'CO_UF_RESIDENCIA', 'SG_UF_RESIDENCIA', 'NU_IDADE',\n",
       "       'TP_SEXO', 'TP_COR_RACA', 'TP_NACIONALIDADE', 'TP_ST_CONCLUSAO',\n",
       "       'TP_ANO_CONCLUIU', 'TP_ESCOLA', 'TP_ENSINO', 'IN_TREINEIRO',\n",
       "       'TP_DEPENDENCIA_ADM_ESC', 'IN_BAIXA_VISAO', 'IN_CEGUEIRA', 'IN_SURDEZ',\n",
       "       'IN_DISLEXIA', 'IN_DISCALCULIA', 'IN_SABATISTA', 'IN_GESTANTE',\n",
       "       'IN_IDOSO', 'TP_PRESENCA_CN', 'TP_PRESENCA_CH', 'TP_PRESENCA_LC',\n",
       "       'CO_PROVA_CN', 'CO_PROVA_CH', 'CO_PROVA_LC', 'CO_PROVA_MT',\n",
       "       'NU_NOTA_CN', 'NU_NOTA_CH', 'NU_NOTA_LC', 'TP_LINGUA',\n",
       "       'TP_STATUS_REDACAO', 'NU_NOTA_COMP1', 'NU_NOTA_COMP2', 'NU_NOTA_COMP3',\n",
       "       'NU_NOTA_COMP4', 'NU_NOTA_COMP5', 'NU_NOTA_REDACAO', 'Q001', 'Q002',\n",
       "       'Q006', 'Q024', 'Q025', 'Q026', 'Q027', 'Q047'],\n",
       "      dtype='object')"
      ]
     },
     "execution_count": 5,
     "metadata": {},
     "output_type": "execute_result"
    }
   ],
   "source": [
    "df_test.columns"
   ]
  },
  {
   "cell_type": "markdown",
   "metadata": {},
   "source": [
    "O dataset de treino possui um numero inferior de colunas em relação ao nosso dataframe de testes. O importante nesse caso é verificarmos quais variáveis temos em nosso dataset de treino que são úteis e relevantes para treinar nosso modelo."
   ]
  },
  {
   "cell_type": "markdown",
   "metadata": {},
   "source": [
    "**Estatística Descritiva**\n",
    "\n",
    "Aqui temos a estatística descritiva dos nossos dados:\n",
    "\n",
    "* Quantidade de dados\n",
    "* Média, desvio padrão, mínimo, máximo e quantils de cada uma das colunas.\n",
    "\n",
    "Como o DataSet é composto por variáveis quantitativas essas informações podem ser muito úteis"
   ]
  },
  {
   "cell_type": "code",
   "execution_count": 6,
   "metadata": {},
   "outputs": [
    {
     "data": {
      "text/html": [
       "<div>\n",
       "<style scoped>\n",
       "    .dataframe tbody tr th:only-of-type {\n",
       "        vertical-align: middle;\n",
       "    }\n",
       "\n",
       "    .dataframe tbody tr th {\n",
       "        vertical-align: top;\n",
       "    }\n",
       "\n",
       "    .dataframe thead th {\n",
       "        text-align: right;\n",
       "    }\n",
       "</style>\n",
       "<table border=\"1\" class=\"dataframe\">\n",
       "  <thead>\n",
       "    <tr style=\"text-align: right;\">\n",
       "      <th></th>\n",
       "      <th>Unnamed: 0</th>\n",
       "      <th>NU_ANO</th>\n",
       "      <th>CO_MUNICIPIO_RESIDENCIA</th>\n",
       "      <th>CO_UF_RESIDENCIA</th>\n",
       "      <th>NU_IDADE</th>\n",
       "      <th>TP_ESTADO_CIVIL</th>\n",
       "      <th>TP_COR_RACA</th>\n",
       "      <th>TP_NACIONALIDADE</th>\n",
       "      <th>CO_MUNICIPIO_NASCIMENTO</th>\n",
       "      <th>CO_UF_NASCIMENTO</th>\n",
       "      <th>...</th>\n",
       "      <th>Q032</th>\n",
       "      <th>Q033</th>\n",
       "      <th>Q034</th>\n",
       "      <th>Q035</th>\n",
       "      <th>Q036</th>\n",
       "      <th>Q037</th>\n",
       "      <th>Q038</th>\n",
       "      <th>Q039</th>\n",
       "      <th>Q040</th>\n",
       "      <th>Q041</th>\n",
       "    </tr>\n",
       "  </thead>\n",
       "  <tbody>\n",
       "    <tr>\n",
       "      <th>count</th>\n",
       "      <td>13730.000000</td>\n",
       "      <td>13730.0</td>\n",
       "      <td>1.373000e+04</td>\n",
       "      <td>13730.000000</td>\n",
       "      <td>13730.000000</td>\n",
       "      <td>13202.000000</td>\n",
       "      <td>13730.000000</td>\n",
       "      <td>13730.000000</td>\n",
       "      <td>1.312100e+04</td>\n",
       "      <td>13121.000000</td>\n",
       "      <td>...</td>\n",
       "      <td>6354.000000</td>\n",
       "      <td>6354.000000</td>\n",
       "      <td>13730.000000</td>\n",
       "      <td>13730.000000</td>\n",
       "      <td>13730.000000</td>\n",
       "      <td>13730.000000</td>\n",
       "      <td>13730.000000</td>\n",
       "      <td>13730.000000</td>\n",
       "      <td>13730.000000</td>\n",
       "      <td>2938.000000</td>\n",
       "    </tr>\n",
       "    <tr>\n",
       "      <th>mean</th>\n",
       "      <td>2288.173926</td>\n",
       "      <td>2016.0</td>\n",
       "      <td>3.088548e+06</td>\n",
       "      <td>30.736708</td>\n",
       "      <td>21.593809</td>\n",
       "      <td>0.116043</td>\n",
       "      <td>2.185652</td>\n",
       "      <td>1.048871</td>\n",
       "      <td>3.057946e+06</td>\n",
       "      <td>30.429159</td>\n",
       "      <td>...</td>\n",
       "      <td>4.530217</td>\n",
       "      <td>3.962858</td>\n",
       "      <td>4.645594</td>\n",
       "      <td>4.678441</td>\n",
       "      <td>3.341515</td>\n",
       "      <td>4.458995</td>\n",
       "      <td>3.724618</td>\n",
       "      <td>3.506409</td>\n",
       "      <td>4.442098</td>\n",
       "      <td>3.671545</td>\n",
       "    </tr>\n",
       "    <tr>\n",
       "      <th>std</th>\n",
       "      <td>1321.230607</td>\n",
       "      <td>0.0</td>\n",
       "      <td>9.890495e+05</td>\n",
       "      <td>9.862405</td>\n",
       "      <td>7.043654</td>\n",
       "      <td>0.365986</td>\n",
       "      <td>1.007285</td>\n",
       "      <td>0.258895</td>\n",
       "      <td>9.703020e+05</td>\n",
       "      <td>9.670030</td>\n",
       "      <td>...</td>\n",
       "      <td>1.027613</td>\n",
       "      <td>1.625356</td>\n",
       "      <td>0.920998</td>\n",
       "      <td>0.865039</td>\n",
       "      <td>1.711930</td>\n",
       "      <td>1.200172</td>\n",
       "      <td>1.689362</td>\n",
       "      <td>1.718858</td>\n",
       "      <td>1.181549</td>\n",
       "      <td>1.746444</td>\n",
       "    </tr>\n",
       "    <tr>\n",
       "      <th>min</th>\n",
       "      <td>0.000000</td>\n",
       "      <td>2016.0</td>\n",
       "      <td>1.100023e+06</td>\n",
       "      <td>11.000000</td>\n",
       "      <td>13.000000</td>\n",
       "      <td>0.000000</td>\n",
       "      <td>0.000000</td>\n",
       "      <td>0.000000</td>\n",
       "      <td>1.100023e+06</td>\n",
       "      <td>11.000000</td>\n",
       "      <td>...</td>\n",
       "      <td>0.000000</td>\n",
       "      <td>0.000000</td>\n",
       "      <td>0.000000</td>\n",
       "      <td>0.000000</td>\n",
       "      <td>0.000000</td>\n",
       "      <td>0.000000</td>\n",
       "      <td>0.000000</td>\n",
       "      <td>0.000000</td>\n",
       "      <td>0.000000</td>\n",
       "      <td>0.000000</td>\n",
       "    </tr>\n",
       "    <tr>\n",
       "      <th>25%</th>\n",
       "      <td>1144.000000</td>\n",
       "      <td>2016.0</td>\n",
       "      <td>2.307650e+06</td>\n",
       "      <td>23.000000</td>\n",
       "      <td>17.000000</td>\n",
       "      <td>0.000000</td>\n",
       "      <td>1.000000</td>\n",
       "      <td>1.000000</td>\n",
       "      <td>2.306900e+06</td>\n",
       "      <td>23.000000</td>\n",
       "      <td>...</td>\n",
       "      <td>5.000000</td>\n",
       "      <td>3.000000</td>\n",
       "      <td>5.000000</td>\n",
       "      <td>5.000000</td>\n",
       "      <td>2.000000</td>\n",
       "      <td>5.000000</td>\n",
       "      <td>3.000000</td>\n",
       "      <td>2.000000</td>\n",
       "      <td>4.000000</td>\n",
       "      <td>3.000000</td>\n",
       "    </tr>\n",
       "    <tr>\n",
       "      <th>50%</th>\n",
       "      <td>2288.000000</td>\n",
       "      <td>2016.0</td>\n",
       "      <td>3.118601e+06</td>\n",
       "      <td>31.000000</td>\n",
       "      <td>19.000000</td>\n",
       "      <td>0.000000</td>\n",
       "      <td>3.000000</td>\n",
       "      <td>1.000000</td>\n",
       "      <td>3.106200e+06</td>\n",
       "      <td>31.000000</td>\n",
       "      <td>...</td>\n",
       "      <td>5.000000</td>\n",
       "      <td>5.000000</td>\n",
       "      <td>5.000000</td>\n",
       "      <td>5.000000</td>\n",
       "      <td>4.000000</td>\n",
       "      <td>5.000000</td>\n",
       "      <td>5.000000</td>\n",
       "      <td>4.000000</td>\n",
       "      <td>5.000000</td>\n",
       "      <td>5.000000</td>\n",
       "    </tr>\n",
       "    <tr>\n",
       "      <th>75%</th>\n",
       "      <td>3432.000000</td>\n",
       "      <td>2016.0</td>\n",
       "      <td>3.550308e+06</td>\n",
       "      <td>35.000000</td>\n",
       "      <td>23.000000</td>\n",
       "      <td>0.000000</td>\n",
       "      <td>3.000000</td>\n",
       "      <td>1.000000</td>\n",
       "      <td>3.549805e+06</td>\n",
       "      <td>35.000000</td>\n",
       "      <td>...</td>\n",
       "      <td>5.000000</td>\n",
       "      <td>5.000000</td>\n",
       "      <td>5.000000</td>\n",
       "      <td>5.000000</td>\n",
       "      <td>5.000000</td>\n",
       "      <td>5.000000</td>\n",
       "      <td>5.000000</td>\n",
       "      <td>5.000000</td>\n",
       "      <td>5.000000</td>\n",
       "      <td>5.000000</td>\n",
       "    </tr>\n",
       "    <tr>\n",
       "      <th>max</th>\n",
       "      <td>4586.000000</td>\n",
       "      <td>2016.0</td>\n",
       "      <td>5.300108e+06</td>\n",
       "      <td>53.000000</td>\n",
       "      <td>67.000000</td>\n",
       "      <td>3.000000</td>\n",
       "      <td>5.000000</td>\n",
       "      <td>4.000000</td>\n",
       "      <td>5.300108e+06</td>\n",
       "      <td>53.000000</td>\n",
       "      <td>...</td>\n",
       "      <td>5.000000</td>\n",
       "      <td>5.000000</td>\n",
       "      <td>5.000000</td>\n",
       "      <td>5.000000</td>\n",
       "      <td>5.000000</td>\n",
       "      <td>5.000000</td>\n",
       "      <td>5.000000</td>\n",
       "      <td>5.000000</td>\n",
       "      <td>5.000000</td>\n",
       "      <td>5.000000</td>\n",
       "    </tr>\n",
       "  </tbody>\n",
       "</table>\n",
       "<p>8 rows × 107 columns</p>\n",
       "</div>"
      ],
      "text/plain": [
       "         Unnamed: 0   NU_ANO  CO_MUNICIPIO_RESIDENCIA  CO_UF_RESIDENCIA  \\\n",
       "count  13730.000000  13730.0             1.373000e+04      13730.000000   \n",
       "mean    2288.173926   2016.0             3.088548e+06         30.736708   \n",
       "std     1321.230607      0.0             9.890495e+05          9.862405   \n",
       "min        0.000000   2016.0             1.100023e+06         11.000000   \n",
       "25%     1144.000000   2016.0             2.307650e+06         23.000000   \n",
       "50%     2288.000000   2016.0             3.118601e+06         31.000000   \n",
       "75%     3432.000000   2016.0             3.550308e+06         35.000000   \n",
       "max     4586.000000   2016.0             5.300108e+06         53.000000   \n",
       "\n",
       "           NU_IDADE  TP_ESTADO_CIVIL   TP_COR_RACA  TP_NACIONALIDADE  \\\n",
       "count  13730.000000     13202.000000  13730.000000      13730.000000   \n",
       "mean      21.593809         0.116043      2.185652          1.048871   \n",
       "std        7.043654         0.365986      1.007285          0.258895   \n",
       "min       13.000000         0.000000      0.000000          0.000000   \n",
       "25%       17.000000         0.000000      1.000000          1.000000   \n",
       "50%       19.000000         0.000000      3.000000          1.000000   \n",
       "75%       23.000000         0.000000      3.000000          1.000000   \n",
       "max       67.000000         3.000000      5.000000          4.000000   \n",
       "\n",
       "       CO_MUNICIPIO_NASCIMENTO  CO_UF_NASCIMENTO  ...         Q032  \\\n",
       "count             1.312100e+04      13121.000000  ...  6354.000000   \n",
       "mean              3.057946e+06         30.429159  ...     4.530217   \n",
       "std               9.703020e+05          9.670030  ...     1.027613   \n",
       "min               1.100023e+06         11.000000  ...     0.000000   \n",
       "25%               2.306900e+06         23.000000  ...     5.000000   \n",
       "50%               3.106200e+06         31.000000  ...     5.000000   \n",
       "75%               3.549805e+06         35.000000  ...     5.000000   \n",
       "max               5.300108e+06         53.000000  ...     5.000000   \n",
       "\n",
       "              Q033          Q034          Q035          Q036          Q037  \\\n",
       "count  6354.000000  13730.000000  13730.000000  13730.000000  13730.000000   \n",
       "mean      3.962858      4.645594      4.678441      3.341515      4.458995   \n",
       "std       1.625356      0.920998      0.865039      1.711930      1.200172   \n",
       "min       0.000000      0.000000      0.000000      0.000000      0.000000   \n",
       "25%       3.000000      5.000000      5.000000      2.000000      5.000000   \n",
       "50%       5.000000      5.000000      5.000000      4.000000      5.000000   \n",
       "75%       5.000000      5.000000      5.000000      5.000000      5.000000   \n",
       "max       5.000000      5.000000      5.000000      5.000000      5.000000   \n",
       "\n",
       "               Q038          Q039          Q040         Q041  \n",
       "count  13730.000000  13730.000000  13730.000000  2938.000000  \n",
       "mean       3.724618      3.506409      4.442098     3.671545  \n",
       "std        1.689362      1.718858      1.181549     1.746444  \n",
       "min        0.000000      0.000000      0.000000     0.000000  \n",
       "25%        3.000000      2.000000      4.000000     3.000000  \n",
       "50%        5.000000      4.000000      5.000000     5.000000  \n",
       "75%        5.000000      5.000000      5.000000     5.000000  \n",
       "max        5.000000      5.000000      5.000000     5.000000  \n",
       "\n",
       "[8 rows x 107 columns]"
      ]
     },
     "execution_count": 6,
     "metadata": {},
     "output_type": "execute_result"
    }
   ],
   "source": [
    "df_train.describe()"
   ]
  },
  {
   "cell_type": "markdown",
   "metadata": {},
   "source": [
    "**Verificando a correlação**\n",
    "\n",
    "Conhecendo a estatística descritiva podemos verificar a correlação entre nossas variáveis e verificar quais possuem melhor correlação com a coluna NU_NOTA_MF."
   ]
  },
  {
   "cell_type": "code",
   "execution_count": 7,
   "metadata": {},
   "outputs": [
    {
     "data": {
      "text/html": [
       "<div>\n",
       "<style scoped>\n",
       "    .dataframe tbody tr th:only-of-type {\n",
       "        vertical-align: middle;\n",
       "    }\n",
       "\n",
       "    .dataframe tbody tr th {\n",
       "        vertical-align: top;\n",
       "    }\n",
       "\n",
       "    .dataframe thead th {\n",
       "        text-align: right;\n",
       "    }\n",
       "</style>\n",
       "<table border=\"1\" class=\"dataframe\">\n",
       "  <thead>\n",
       "    <tr style=\"text-align: right;\">\n",
       "      <th></th>\n",
       "      <th>Unnamed: 0</th>\n",
       "      <th>NU_ANO</th>\n",
       "      <th>CO_MUNICIPIO_RESIDENCIA</th>\n",
       "      <th>CO_UF_RESIDENCIA</th>\n",
       "      <th>NU_IDADE</th>\n",
       "      <th>TP_ESTADO_CIVIL</th>\n",
       "      <th>TP_COR_RACA</th>\n",
       "      <th>TP_NACIONALIDADE</th>\n",
       "      <th>CO_MUNICIPIO_NASCIMENTO</th>\n",
       "      <th>CO_UF_NASCIMENTO</th>\n",
       "      <th>...</th>\n",
       "      <th>Q032</th>\n",
       "      <th>Q033</th>\n",
       "      <th>Q034</th>\n",
       "      <th>Q035</th>\n",
       "      <th>Q036</th>\n",
       "      <th>Q037</th>\n",
       "      <th>Q038</th>\n",
       "      <th>Q039</th>\n",
       "      <th>Q040</th>\n",
       "      <th>Q041</th>\n",
       "    </tr>\n",
       "  </thead>\n",
       "  <tbody>\n",
       "    <tr>\n",
       "      <th>Unnamed: 0</th>\n",
       "      <td>1.000000</td>\n",
       "      <td>NaN</td>\n",
       "      <td>-0.007258</td>\n",
       "      <td>-0.007250</td>\n",
       "      <td>-0.007201</td>\n",
       "      <td>0.003678</td>\n",
       "      <td>0.005707</td>\n",
       "      <td>-0.006217</td>\n",
       "      <td>-0.004527</td>\n",
       "      <td>-0.004615</td>\n",
       "      <td>...</td>\n",
       "      <td>0.001520</td>\n",
       "      <td>0.018074</td>\n",
       "      <td>0.001693</td>\n",
       "      <td>-0.008141</td>\n",
       "      <td>0.002724</td>\n",
       "      <td>-0.004914</td>\n",
       "      <td>0.003906</td>\n",
       "      <td>0.001002</td>\n",
       "      <td>-0.010967</td>\n",
       "      <td>-0.029937</td>\n",
       "    </tr>\n",
       "    <tr>\n",
       "      <th>NU_ANO</th>\n",
       "      <td>NaN</td>\n",
       "      <td>NaN</td>\n",
       "      <td>NaN</td>\n",
       "      <td>NaN</td>\n",
       "      <td>NaN</td>\n",
       "      <td>NaN</td>\n",
       "      <td>NaN</td>\n",
       "      <td>NaN</td>\n",
       "      <td>NaN</td>\n",
       "      <td>NaN</td>\n",
       "      <td>...</td>\n",
       "      <td>NaN</td>\n",
       "      <td>NaN</td>\n",
       "      <td>NaN</td>\n",
       "      <td>NaN</td>\n",
       "      <td>NaN</td>\n",
       "      <td>NaN</td>\n",
       "      <td>NaN</td>\n",
       "      <td>NaN</td>\n",
       "      <td>NaN</td>\n",
       "      <td>NaN</td>\n",
       "    </tr>\n",
       "    <tr>\n",
       "      <th>CO_MUNICIPIO_RESIDENCIA</th>\n",
       "      <td>-0.007258</td>\n",
       "      <td>NaN</td>\n",
       "      <td>1.000000</td>\n",
       "      <td>0.999865</td>\n",
       "      <td>-0.002296</td>\n",
       "      <td>0.020813</td>\n",
       "      <td>-0.236178</td>\n",
       "      <td>0.009710</td>\n",
       "      <td>0.865294</td>\n",
       "      <td>0.865216</td>\n",
       "      <td>...</td>\n",
       "      <td>0.004115</td>\n",
       "      <td>-0.030114</td>\n",
       "      <td>-0.050304</td>\n",
       "      <td>-0.050138</td>\n",
       "      <td>-0.040668</td>\n",
       "      <td>-0.013479</td>\n",
       "      <td>-0.032710</td>\n",
       "      <td>-0.094862</td>\n",
       "      <td>-0.077456</td>\n",
       "      <td>-0.033205</td>\n",
       "    </tr>\n",
       "    <tr>\n",
       "      <th>CO_UF_RESIDENCIA</th>\n",
       "      <td>-0.007250</td>\n",
       "      <td>NaN</td>\n",
       "      <td>0.999865</td>\n",
       "      <td>1.000000</td>\n",
       "      <td>-0.002017</td>\n",
       "      <td>0.020947</td>\n",
       "      <td>-0.234786</td>\n",
       "      <td>0.009433</td>\n",
       "      <td>0.864791</td>\n",
       "      <td>0.864919</td>\n",
       "      <td>...</td>\n",
       "      <td>0.003968</td>\n",
       "      <td>-0.030345</td>\n",
       "      <td>-0.050096</td>\n",
       "      <td>-0.049292</td>\n",
       "      <td>-0.040688</td>\n",
       "      <td>-0.013647</td>\n",
       "      <td>-0.032467</td>\n",
       "      <td>-0.094113</td>\n",
       "      <td>-0.076838</td>\n",
       "      <td>-0.033149</td>\n",
       "    </tr>\n",
       "    <tr>\n",
       "      <th>NU_IDADE</th>\n",
       "      <td>-0.007201</td>\n",
       "      <td>NaN</td>\n",
       "      <td>-0.002296</td>\n",
       "      <td>-0.002017</td>\n",
       "      <td>1.000000</td>\n",
       "      <td>0.533462</td>\n",
       "      <td>0.009675</td>\n",
       "      <td>-0.017713</td>\n",
       "      <td>-0.030711</td>\n",
       "      <td>-0.030259</td>\n",
       "      <td>...</td>\n",
       "      <td>-0.044791</td>\n",
       "      <td>0.025077</td>\n",
       "      <td>-0.030681</td>\n",
       "      <td>0.012739</td>\n",
       "      <td>0.021949</td>\n",
       "      <td>-0.003569</td>\n",
       "      <td>-0.035306</td>\n",
       "      <td>-0.069973</td>\n",
       "      <td>-0.010988</td>\n",
       "      <td>0.160526</td>\n",
       "    </tr>\n",
       "    <tr>\n",
       "      <th>...</th>\n",
       "      <td>...</td>\n",
       "      <td>...</td>\n",
       "      <td>...</td>\n",
       "      <td>...</td>\n",
       "      <td>...</td>\n",
       "      <td>...</td>\n",
       "      <td>...</td>\n",
       "      <td>...</td>\n",
       "      <td>...</td>\n",
       "      <td>...</td>\n",
       "      <td>...</td>\n",
       "      <td>...</td>\n",
       "      <td>...</td>\n",
       "      <td>...</td>\n",
       "      <td>...</td>\n",
       "      <td>...</td>\n",
       "      <td>...</td>\n",
       "      <td>...</td>\n",
       "      <td>...</td>\n",
       "      <td>...</td>\n",
       "      <td>...</td>\n",
       "    </tr>\n",
       "    <tr>\n",
       "      <th>Q037</th>\n",
       "      <td>-0.004914</td>\n",
       "      <td>NaN</td>\n",
       "      <td>-0.013479</td>\n",
       "      <td>-0.013647</td>\n",
       "      <td>-0.003569</td>\n",
       "      <td>0.002294</td>\n",
       "      <td>0.086642</td>\n",
       "      <td>0.032588</td>\n",
       "      <td>-0.024174</td>\n",
       "      <td>-0.024201</td>\n",
       "      <td>...</td>\n",
       "      <td>0.220839</td>\n",
       "      <td>0.225791</td>\n",
       "      <td>0.245757</td>\n",
       "      <td>0.202230</td>\n",
       "      <td>0.387722</td>\n",
       "      <td>1.000000</td>\n",
       "      <td>0.496678</td>\n",
       "      <td>0.254418</td>\n",
       "      <td>0.270380</td>\n",
       "      <td>0.187921</td>\n",
       "    </tr>\n",
       "    <tr>\n",
       "      <th>Q038</th>\n",
       "      <td>0.003906</td>\n",
       "      <td>NaN</td>\n",
       "      <td>-0.032710</td>\n",
       "      <td>-0.032467</td>\n",
       "      <td>-0.035306</td>\n",
       "      <td>-0.014725</td>\n",
       "      <td>0.069298</td>\n",
       "      <td>0.024112</td>\n",
       "      <td>-0.038666</td>\n",
       "      <td>-0.038305</td>\n",
       "      <td>...</td>\n",
       "      <td>0.159887</td>\n",
       "      <td>0.223508</td>\n",
       "      <td>0.215767</td>\n",
       "      <td>0.142610</td>\n",
       "      <td>0.378421</td>\n",
       "      <td>0.496678</td>\n",
       "      <td>1.000000</td>\n",
       "      <td>0.374424</td>\n",
       "      <td>0.259947</td>\n",
       "      <td>0.219529</td>\n",
       "    </tr>\n",
       "    <tr>\n",
       "      <th>Q039</th>\n",
       "      <td>0.001002</td>\n",
       "      <td>NaN</td>\n",
       "      <td>-0.094862</td>\n",
       "      <td>-0.094113</td>\n",
       "      <td>-0.069973</td>\n",
       "      <td>-0.066346</td>\n",
       "      <td>0.046830</td>\n",
       "      <td>0.011327</td>\n",
       "      <td>-0.097273</td>\n",
       "      <td>-0.096666</td>\n",
       "      <td>...</td>\n",
       "      <td>0.144264</td>\n",
       "      <td>0.206979</td>\n",
       "      <td>0.189252</td>\n",
       "      <td>0.225724</td>\n",
       "      <td>0.270343</td>\n",
       "      <td>0.254418</td>\n",
       "      <td>0.374424</td>\n",
       "      <td>1.000000</td>\n",
       "      <td>0.305357</td>\n",
       "      <td>0.262031</td>\n",
       "    </tr>\n",
       "    <tr>\n",
       "      <th>Q040</th>\n",
       "      <td>-0.010967</td>\n",
       "      <td>NaN</td>\n",
       "      <td>-0.077456</td>\n",
       "      <td>-0.076838</td>\n",
       "      <td>-0.010988</td>\n",
       "      <td>-0.022736</td>\n",
       "      <td>0.053556</td>\n",
       "      <td>0.014847</td>\n",
       "      <td>-0.081490</td>\n",
       "      <td>-0.080963</td>\n",
       "      <td>...</td>\n",
       "      <td>0.215292</td>\n",
       "      <td>0.176028</td>\n",
       "      <td>0.243190</td>\n",
       "      <td>0.179292</td>\n",
       "      <td>0.177025</td>\n",
       "      <td>0.270380</td>\n",
       "      <td>0.259947</td>\n",
       "      <td>0.305357</td>\n",
       "      <td>1.000000</td>\n",
       "      <td>0.306438</td>\n",
       "    </tr>\n",
       "    <tr>\n",
       "      <th>Q041</th>\n",
       "      <td>-0.029937</td>\n",
       "      <td>NaN</td>\n",
       "      <td>-0.033205</td>\n",
       "      <td>-0.033149</td>\n",
       "      <td>0.160526</td>\n",
       "      <td>0.108771</td>\n",
       "      <td>0.020966</td>\n",
       "      <td>0.008132</td>\n",
       "      <td>-0.042237</td>\n",
       "      <td>-0.042134</td>\n",
       "      <td>...</td>\n",
       "      <td>0.233832</td>\n",
       "      <td>0.205239</td>\n",
       "      <td>0.154743</td>\n",
       "      <td>0.113574</td>\n",
       "      <td>0.214736</td>\n",
       "      <td>0.187921</td>\n",
       "      <td>0.219529</td>\n",
       "      <td>0.262031</td>\n",
       "      <td>0.306438</td>\n",
       "      <td>1.000000</td>\n",
       "    </tr>\n",
       "  </tbody>\n",
       "</table>\n",
       "<p>107 rows × 107 columns</p>\n",
       "</div>"
      ],
      "text/plain": [
       "                         Unnamed: 0  NU_ANO  CO_MUNICIPIO_RESIDENCIA  \\\n",
       "Unnamed: 0                 1.000000     NaN                -0.007258   \n",
       "NU_ANO                          NaN     NaN                      NaN   \n",
       "CO_MUNICIPIO_RESIDENCIA   -0.007258     NaN                 1.000000   \n",
       "CO_UF_RESIDENCIA          -0.007250     NaN                 0.999865   \n",
       "NU_IDADE                  -0.007201     NaN                -0.002296   \n",
       "...                             ...     ...                      ...   \n",
       "Q037                      -0.004914     NaN                -0.013479   \n",
       "Q038                       0.003906     NaN                -0.032710   \n",
       "Q039                       0.001002     NaN                -0.094862   \n",
       "Q040                      -0.010967     NaN                -0.077456   \n",
       "Q041                      -0.029937     NaN                -0.033205   \n",
       "\n",
       "                         CO_UF_RESIDENCIA  NU_IDADE  TP_ESTADO_CIVIL  \\\n",
       "Unnamed: 0                      -0.007250 -0.007201         0.003678   \n",
       "NU_ANO                                NaN       NaN              NaN   \n",
       "CO_MUNICIPIO_RESIDENCIA          0.999865 -0.002296         0.020813   \n",
       "CO_UF_RESIDENCIA                 1.000000 -0.002017         0.020947   \n",
       "NU_IDADE                        -0.002017  1.000000         0.533462   \n",
       "...                                   ...       ...              ...   \n",
       "Q037                            -0.013647 -0.003569         0.002294   \n",
       "Q038                            -0.032467 -0.035306        -0.014725   \n",
       "Q039                            -0.094113 -0.069973        -0.066346   \n",
       "Q040                            -0.076838 -0.010988        -0.022736   \n",
       "Q041                            -0.033149  0.160526         0.108771   \n",
       "\n",
       "                         TP_COR_RACA  TP_NACIONALIDADE  \\\n",
       "Unnamed: 0                  0.005707         -0.006217   \n",
       "NU_ANO                           NaN               NaN   \n",
       "CO_MUNICIPIO_RESIDENCIA    -0.236178          0.009710   \n",
       "CO_UF_RESIDENCIA           -0.234786          0.009433   \n",
       "NU_IDADE                    0.009675         -0.017713   \n",
       "...                              ...               ...   \n",
       "Q037                        0.086642          0.032588   \n",
       "Q038                        0.069298          0.024112   \n",
       "Q039                        0.046830          0.011327   \n",
       "Q040                        0.053556          0.014847   \n",
       "Q041                        0.020966          0.008132   \n",
       "\n",
       "                         CO_MUNICIPIO_NASCIMENTO  CO_UF_NASCIMENTO  ...  \\\n",
       "Unnamed: 0                             -0.004527         -0.004615  ...   \n",
       "NU_ANO                                       NaN               NaN  ...   \n",
       "CO_MUNICIPIO_RESIDENCIA                 0.865294          0.865216  ...   \n",
       "CO_UF_RESIDENCIA                        0.864791          0.864919  ...   \n",
       "NU_IDADE                               -0.030711         -0.030259  ...   \n",
       "...                                          ...               ...  ...   \n",
       "Q037                                   -0.024174         -0.024201  ...   \n",
       "Q038                                   -0.038666         -0.038305  ...   \n",
       "Q039                                   -0.097273         -0.096666  ...   \n",
       "Q040                                   -0.081490         -0.080963  ...   \n",
       "Q041                                   -0.042237         -0.042134  ...   \n",
       "\n",
       "                             Q032      Q033      Q034      Q035      Q036  \\\n",
       "Unnamed: 0               0.001520  0.018074  0.001693 -0.008141  0.002724   \n",
       "NU_ANO                        NaN       NaN       NaN       NaN       NaN   \n",
       "CO_MUNICIPIO_RESIDENCIA  0.004115 -0.030114 -0.050304 -0.050138 -0.040668   \n",
       "CO_UF_RESIDENCIA         0.003968 -0.030345 -0.050096 -0.049292 -0.040688   \n",
       "NU_IDADE                -0.044791  0.025077 -0.030681  0.012739  0.021949   \n",
       "...                           ...       ...       ...       ...       ...   \n",
       "Q037                     0.220839  0.225791  0.245757  0.202230  0.387722   \n",
       "Q038                     0.159887  0.223508  0.215767  0.142610  0.378421   \n",
       "Q039                     0.144264  0.206979  0.189252  0.225724  0.270343   \n",
       "Q040                     0.215292  0.176028  0.243190  0.179292  0.177025   \n",
       "Q041                     0.233832  0.205239  0.154743  0.113574  0.214736   \n",
       "\n",
       "                             Q037      Q038      Q039      Q040      Q041  \n",
       "Unnamed: 0              -0.004914  0.003906  0.001002 -0.010967 -0.029937  \n",
       "NU_ANO                        NaN       NaN       NaN       NaN       NaN  \n",
       "CO_MUNICIPIO_RESIDENCIA -0.013479 -0.032710 -0.094862 -0.077456 -0.033205  \n",
       "CO_UF_RESIDENCIA        -0.013647 -0.032467 -0.094113 -0.076838 -0.033149  \n",
       "NU_IDADE                -0.003569 -0.035306 -0.069973 -0.010988  0.160526  \n",
       "...                           ...       ...       ...       ...       ...  \n",
       "Q037                     1.000000  0.496678  0.254418  0.270380  0.187921  \n",
       "Q038                     0.496678  1.000000  0.374424  0.259947  0.219529  \n",
       "Q039                     0.254418  0.374424  1.000000  0.305357  0.262031  \n",
       "Q040                     0.270380  0.259947  0.305357  1.000000  0.306438  \n",
       "Q041                     0.187921  0.219529  0.262031  0.306438  1.000000  \n",
       "\n",
       "[107 rows x 107 columns]"
      ]
     },
     "execution_count": 7,
     "metadata": {},
     "output_type": "execute_result"
    }
   ],
   "source": [
    "df_train.corr()"
   ]
  },
  {
   "cell_type": "markdown",
   "metadata": {},
   "source": [
    "**Verificando as distribuições**"
   ]
  },
  {
   "cell_type": "code",
   "execution_count": 8,
   "metadata": {},
   "outputs": [],
   "source": [
    "plt.style.use('ggplot')\n",
    "#%matplotlib inline"
   ]
  },
  {
   "cell_type": "code",
   "execution_count": 9,
   "metadata": {},
   "outputs": [],
   "source": [
    "features = [\n",
    "    'NU_NOTA_CN',\n",
    "    'NU_NOTA_CH',\n",
    "    'NU_NOTA_LC',\n",
    "    'NU_NOTA_REDACAO',\n",
    "    'NU_NOTA_COMP1',\n",
    "    'NU_NOTA_COMP2',\n",
    "    'NU_NOTA_COMP3',\n",
    "    'NU_NOTA_COMP4',\n",
    "    'NU_NOTA_COMP5']"
   ]
  },
  {
   "cell_type": "code",
   "execution_count": 10,
   "metadata": {},
   "outputs": [],
   "source": [
    "features_corr = [\n",
    "    'NU_NOTA_MT',\n",
    "    'NU_NOTA_CN',\n",
    "    'NU_NOTA_CH',\n",
    "    'NU_NOTA_LC',\n",
    "    'NU_NOTA_REDACAO',\n",
    "    'NU_NOTA_COMP1',\n",
    "    'NU_NOTA_COMP2',\n",
    "    'NU_NOTA_COMP3',\n",
    "    'NU_NOTA_COMP4',\n",
    "    'NU_NOTA_COMP5']"
   ]
  },
  {
   "cell_type": "markdown",
   "metadata": {},
   "source": [
    "**Verificação de nulos**\n",
    "\n",
    "Agora que temos nossas features de treino iremos verificar os valores."
   ]
  },
  {
   "cell_type": "code",
   "execution_count": 11,
   "metadata": {},
   "outputs": [
    {
     "data": {
      "text/plain": [
       "NU_NOTA_CN         3389\n",
       "NU_NOTA_CH         3389\n",
       "NU_NOTA_LC         3597\n",
       "NU_NOTA_REDACAO    3597\n",
       "NU_NOTA_COMP1      3597\n",
       "NU_NOTA_COMP2      3597\n",
       "NU_NOTA_COMP3      3597\n",
       "NU_NOTA_COMP4      3597\n",
       "NU_NOTA_COMP5      3597\n",
       "dtype: int64"
      ]
     },
     "execution_count": 11,
     "metadata": {},
     "output_type": "execute_result"
    }
   ],
   "source": [
    "df_train[features].isnull().sum()"
   ]
  },
  {
   "cell_type": "markdown",
   "metadata": {},
   "source": [
    "**Matriz de correlação**"
   ]
  },
  {
   "cell_type": "code",
   "execution_count": 12,
   "metadata": {},
   "outputs": [],
   "source": [
    "correlation = df_train[features_corr].corr()"
   ]
  },
  {
   "cell_type": "code",
   "execution_count": 13,
   "metadata": {},
   "outputs": [
    {
     "data": {
      "text/plain": [
       "<matplotlib.axes._subplots.AxesSubplot at 0x7f91e9144fd0>"
      ]
     },
     "execution_count": 13,
     "metadata": {},
     "output_type": "execute_result"
    },
    {
     "data": {
      "image/png": "[encoded data removed]",
      "text/plain": [
       "<Figure size 864x576 with 2 Axes>"
      ]
     },
     "metadata": {
      "needs_background": "light"
     },
     "output_type": "display_data"
    }
   ],
   "source": [
    "xaxis = plt.subplots(figsize = (12,8))\n",
    "sns.heatmap(correlation, annot=True, annot_kws = {\"size\":12})"
   ]
  },
  {
   "cell_type": "markdown",
   "metadata": {},
   "source": [
    "**Gráficos das distribuições dos dados**"
   ]
  },
  {
   "cell_type": "markdown",
   "metadata": {},
   "source": [
    "**Distribuição de notas de Ciências da Natureza**"
   ]
  },
  {
   "cell_type": "code",
   "execution_count": 14,
   "metadata": {},
   "outputs": [
    {
     "data": {
      "image/png": "[encoded data removed]",
      "text/plain": [
       "<Figure size 432x288 with 1 Axes>"
      ]
     },
     "metadata": {
      "needs_background": "light"
     },
     "output_type": "display_data"
    }
   ],
   "source": [
    "x0 = df_train['NU_NOTA_CN'].fillna(0)\n",
    "x1 = df_test['NU_NOTA_CN'].fillna(0)\n",
    "\n",
    "sns.distplot(x0)\n",
    "sns.distplot(x1)\n",
    "plt.legend(labels =['Train','Test'], ncol = 2, loc ='upper left');"
   ]
  },
  {
   "cell_type": "markdown",
   "metadata": {},
   "source": [
    "**Distribuição de notas de Ciências Humanas**"
   ]
  },
  {
   "cell_type": "code",
   "execution_count": 15,
   "metadata": {},
   "outputs": [
    {
     "data": {
      "image/png": "[encoded data removed]",
      "text/plain": [
       "<Figure size 432x288 with 1 Axes>"
      ]
     },
     "metadata": {
      "needs_background": "light"
     },
     "output_type": "display_data"
    }
   ],
   "source": [
    "x2 = df_train['NU_NOTA_CH'].fillna(0)\n",
    "x3 = df_test['NU_NOTA_CH'].fillna(0)\n",
    "\n",
    "sns.distplot(x2)\n",
    "sns.distplot(x3)\n",
    "plt.legend(labels =['Train','Test'], ncol = 2, loc ='upper left');"
   ]
  },
  {
   "cell_type": "markdown",
   "metadata": {},
   "source": [
    "**Distribuição de notas de Linguagens e Códigos**"
   ]
  },
  {
   "cell_type": "code",
   "execution_count": 16,
   "metadata": {},
   "outputs": [
    {
     "data": {
      "image/png": "[encoded data removed]",
      "text/plain": [
       "<Figure size 432x288 with 1 Axes>"
      ]
     },
     "metadata": {
      "needs_background": "light"
     },
     "output_type": "display_data"
    }
   ],
   "source": [
    "x4 = df_train['NU_NOTA_LC'].fillna(0)\n",
    "x5 = df_test['NU_NOTA_LC'].fillna(0)\n",
    "\n",
    "sns.distplot(x4)\n",
    "sns.distplot(x5)\n",
    "plt.legend(labels =['Train','Test'], ncol = 2, loc ='upper left');"
   ]
  },
  {
   "cell_type": "markdown",
   "metadata": {},
   "source": [
    "Nos gráficos acima grande parte das notas foram zeradas, pois valores (null == 0)\n",
    "Procedimento para tratar esses zeros: remoção do dataset de treino desses valores para que o modelo treinado siga uma distribuição \"normal\"."
   ]
  },
  {
   "cell_type": "code",
   "execution_count": 17,
   "metadata": {},
   "outputs": [],
   "source": [
    "df_train = df_train.loc[(df_train['NU_NOTA_CN'].notnull()) & (df_train['NU_NOTA_CN']!=0) & \n",
    "                  (df_train['NU_NOTA_CH'].notnull()) & (df_train['NU_NOTA_CH']!=0) & \n",
    "                  (df_train['NU_NOTA_LC'].notnull())&(df_train['NU_NOTA_LC']!=0) &\n",
    "                       (df_train['NU_NOTA_REDACAO'].notnull() & (df_train['NU_NOTA_REDACAO'] != 0))]"
   ]
  },
  {
   "cell_type": "markdown",
   "metadata": {},
   "source": [
    "Após removermos os valores zerados iremos plotar as curvas para vermos as distribuições das notas."
   ]
  },
  {
   "cell_type": "code",
   "execution_count": 18,
   "metadata": {},
   "outputs": [
    {
     "data": {
      "text/plain": [
       "NU_NOTA_CN         0\n",
       "NU_NOTA_CH         0\n",
       "NU_NOTA_LC         0\n",
       "NU_NOTA_REDACAO    0\n",
       "NU_NOTA_COMP1      0\n",
       "NU_NOTA_COMP2      0\n",
       "NU_NOTA_COMP3      0\n",
       "NU_NOTA_COMP4      0\n",
       "NU_NOTA_COMP5      0\n",
       "dtype: int64"
      ]
     },
     "execution_count": 18,
     "metadata": {},
     "output_type": "execute_result"
    }
   ],
   "source": [
    "df_train[features].isnull().sum()"
   ]
  },
  {
   "cell_type": "markdown",
   "metadata": {},
   "source": [
    "Repare que agora não possuímos mais valores nulos em nosso dataset de treino.  \n",
    "\n",
    "**Distribuição das notas dos dados de treino após a remoção dos valores nulos**\n",
    "\n",
    "**Distribuição das notas de Ciências da Natureza**"
   ]
  },
  {
   "cell_type": "code",
   "execution_count": 19,
   "metadata": {},
   "outputs": [
    {
     "data": {
      "image/png": "[encoded data removed]",
      "text/plain": [
       "<Figure size 432x288 with 1 Axes>"
      ]
     },
     "metadata": {
      "needs_background": "light"
     },
     "output_type": "display_data"
    }
   ],
   "source": [
    "x0 = df_train['NU_NOTA_CN'].fillna(0)\n",
    "x1 = df_test['NU_NOTA_CN'].fillna(0)\n",
    "\n",
    "sns.distplot(x0)\n",
    "sns.distplot(x1)\n",
    "plt.legend(labels =['Train','Test'], ncol = 2, loc ='upper left');"
   ]
  },
  {
   "cell_type": "markdown",
   "metadata": {},
   "source": [
    "**Distribuição das notas de Ciências Humanas**"
   ]
  },
  {
   "cell_type": "code",
   "execution_count": 20,
   "metadata": {},
   "outputs": [
    {
     "data": {
      "image/png": "[encoded data removed]",
      "text/plain": [
       "<Figure size 432x288 with 1 Axes>"
      ]
     },
     "metadata": {
      "needs_background": "light"
     },
     "output_type": "display_data"
    }
   ],
   "source": [
    "x2 = df_train['NU_NOTA_CH'].fillna(0)\n",
    "x3 = df_test['NU_NOTA_CH'].fillna(0)\n",
    "\n",
    "sns.distplot(x2)\n",
    "sns.distplot(x3)\n",
    "plt.legend(labels =['Train','Test'], ncol = 2, loc ='upper left');"
   ]
  },
  {
   "cell_type": "markdown",
   "metadata": {},
   "source": [
    "**Distribuição das notas de Linguagens e Códigos**"
   ]
  },
  {
   "cell_type": "code",
   "execution_count": 21,
   "metadata": {},
   "outputs": [
    {
     "data": {
      "image/png": "[encoded data removed]",
      "text/plain": [
       "<Figure size 432x288 with 1 Axes>"
      ]
     },
     "metadata": {
      "needs_background": "light"
     },
     "output_type": "display_data"
    }
   ],
   "source": [
    "x4 = df_train['NU_NOTA_LC'].fillna(0)\n",
    "x5 = df_test['NU_NOTA_LC'].fillna(0)\n",
    "\n",
    "sns.distplot(x4)\n",
    "sns.distplot(x5)\n",
    "plt.legend(labels =['Train','Test'], ncol = 2, loc ='upper left');"
   ]
  },
  {
   "cell_type": "markdown",
   "metadata": {},
   "source": [
    "**Prova do Enem: 2 dias**\n",
    "\n",
    "\n",
    "*   Dia 1:Linguagens e Códigos, Redação e Matemática\n",
    "*   Dia 2: Ciências Humanas e Ciências da Natureza\n",
    "\n",
    "Logo Linguagens e Códigos, Redação e Matemática. Se pegarmos a variável **TP_PRESENCA_LC** e se o aluno não esteve presente na prova de Linguagens e Códigos ele tirou 0 na Prova de Matemática. \n",
    "\n",
    "\n",
    "### Verificando as distribuições da Base de dados de Teste\n",
    "\n",
    "\n",
    "Agora selecionamos valores diferentes de 0 e não nulos na base de teste."
   ]
  },
  {
   "cell_type": "code",
   "execution_count": 22,
   "metadata": {},
   "outputs": [],
   "source": [
    "df_test= df_test.loc[(df_test['NU_NOTA_CN'].notnull()) & (df_test['NU_NOTA_CN']!=0) & \n",
    "                  (df_test['NU_NOTA_CH'].notnull()) & (df_test['NU_NOTA_CH']!=0) & \n",
    "                  (df_test['NU_NOTA_LC'].notnull())&(df_test['NU_NOTA_LC']!=0) & \n",
    "                  (df_test['NU_NOTA_REDACAO'].notnull()) & (df_test['NU_NOTA_REDACAO']!=0)]"
   ]
  },
  {
   "cell_type": "code",
   "execution_count": 23,
   "metadata": {},
   "outputs": [
    {
     "data": {
      "text/plain": [
       "NU_NOTA_CN         0\n",
       "NU_NOTA_CH         0\n",
       "NU_NOTA_LC         0\n",
       "NU_NOTA_REDACAO    0\n",
       "NU_NOTA_COMP1      0\n",
       "NU_NOTA_COMP2      0\n",
       "NU_NOTA_COMP3      0\n",
       "NU_NOTA_COMP4      0\n",
       "NU_NOTA_COMP5      0\n",
       "dtype: int64"
      ]
     },
     "execution_count": 23,
     "metadata": {},
     "output_type": "execute_result"
    }
   ],
   "source": [
    "df_test[features].isnull().sum()"
   ]
  },
  {
   "cell_type": "markdown",
   "metadata": {},
   "source": [
    "Verificamos assim que não há mais valores nulos no Dataset de teste."
   ]
  },
  {
   "cell_type": "markdown",
   "metadata": {},
   "source": [
    "**Construindo os gráficos de Distribuição**\n",
    "\n",
    "Após tratarmos os valores nulos do dataset de teste verificamos que os gráficos de distribuição das notas se encontram de teste e treino apresentam maior similaridade, tornando nossos dados mais homogêneos.\n",
    "\n",
    "**Distribuição das notas de Ciências da Natureza**"
   ]
  },
  {
   "cell_type": "code",
   "execution_count": 24,
   "metadata": {},
   "outputs": [
    {
     "data": {
      "image/png": "[encoded data removed]",
      "text/plain": [
       "<Figure size 432x288 with 1 Axes>"
      ]
     },
     "metadata": {
      "needs_background": "light"
     },
     "output_type": "display_data"
    }
   ],
   "source": [
    "x0 = df_train['NU_NOTA_CN'].fillna(0)\n",
    "x1 = df_test['NU_NOTA_CN'].fillna(0)\n",
    "\n",
    "sns.distplot(x0)\n",
    "sns.distplot(x1)\n",
    "plt.legend(labels =['Train','Test'], ncol = 2, loc ='upper left');"
   ]
  },
  {
   "cell_type": "markdown",
   "metadata": {},
   "source": [
    "**Distribuição das Notas de Ciências Humanas**"
   ]
  },
  {
   "cell_type": "code",
   "execution_count": 25,
   "metadata": {},
   "outputs": [
    {
     "data": {
      "image/png": "[encoded data removed]",
      "text/plain": [
       "<Figure size 432x288 with 1 Axes>"
      ]
     },
     "metadata": {
      "needs_background": "light"
     },
     "output_type": "display_data"
    }
   ],
   "source": [
    "x2 = df_train['NU_NOTA_CH'].fillna(0)\n",
    "x3 = df_test['NU_NOTA_CH'].fillna(0)\n",
    "\n",
    "sns.distplot(x2)\n",
    "sns.distplot(x3)\n",
    "plt.legend(labels =['Train','Test'], ncol = 2, loc ='upper left');"
   ]
  },
  {
   "cell_type": "markdown",
   "metadata": {},
   "source": [
    "**Distribuição das notas de Linguagens e códigos**"
   ]
  },
  {
   "cell_type": "code",
   "execution_count": 26,
   "metadata": {},
   "outputs": [
    {
     "data": {
      "image/png": "[encoded data removed]",
      "text/plain": [
       "<Figure size 432x288 with 1 Axes>"
      ]
     },
     "metadata": {
      "needs_background": "light"
     },
     "output_type": "display_data"
    }
   ],
   "source": [
    "x4 = df_train['NU_NOTA_LC'].fillna(0)\n",
    "x5 = df_test['NU_NOTA_LC'].fillna(0)\n",
    "\n",
    "sns.distplot(x4)\n",
    "sns.distplot(x5)\n",
    "plt.legend(labels =['Train','Test'], ncol = 2, loc ='upper left');"
   ]
  },
  {
   "cell_type": "markdown",
   "metadata": {},
   "source": [
    "### Criando o Modelo de Regressão\n",
    "\n",
    "Como dito anteriormente a prova do Enem ocorre em 2 dias. O dia da prova de matemática (que é de nosso interesse) ocorre no mesmo dia da nota de Linguagens e Códigos ('NU_NOTA_LC') e da redação('NU_NOTA_REDACAO'). \n",
    "\n",
    "Quanto a nota da redação ela é dividida em competências, logo podemos considerar o valor 0 (zero) quando não se atinge uma competência.\n",
    "\n",
    "Então, o primeiro passo será setar em 0 todos os campos que se encontram nulos nas competências atribuídas a nota da Redação. \n",
    "\n",
    "**Observação**: As notas serão zeradas no dataset de treino e de teste."
   ]
  },
  {
   "cell_type": "code",
   "execution_count": 27,
   "metadata": {},
   "outputs": [],
   "source": [
    "df_test['NU_NOTA_COMP1'].fillna(0,inplace=True)\n",
    "df_test['NU_NOTA_COMP2'].fillna(0,inplace=True)\n",
    "df_test['NU_NOTA_COMP3'].fillna(0,inplace=True)\n",
    "df_test['NU_NOTA_COMP4'].fillna(0,inplace=True)\n",
    "df_test['NU_NOTA_COMP5'].fillna(0,inplace=True)\n",
    "\n",
    "df_train['NU_NOTA_COMP1'].fillna(0,inplace=True)\n",
    "df_train['NU_NOTA_COMP2'].fillna(0,inplace=True)\n",
    "df_train['NU_NOTA_COMP3'].fillna(0,inplace=True)\n",
    "df_train['NU_NOTA_COMP4'].fillna(0,inplace=True)\n",
    "df_train['NU_NOTA_COMP5'].fillna(0,inplace=True)"
   ]
  },
  {
   "cell_type": "markdown",
   "metadata": {},
   "source": [
    "Vamos atribuir a uma variável do DataSet de Treino os valores das notas de matemática daquele ano, chamaremos essa variável de  **y_train**."
   ]
  },
  {
   "cell_type": "code",
   "execution_count": 35,
   "metadata": {},
   "outputs": [],
   "source": [
    "y_train = df_train['NU_NOTA_MT']"
   ]
  },
  {
   "cell_type": "markdown",
   "metadata": {},
   "source": [
    "Após atribuir a nota de matemática iremos setar valores de x para o dataset de treino e teste com as features que selecionamos anteriormente."
   ]
  },
  {
   "cell_type": "code",
   "execution_count": 30,
   "metadata": {},
   "outputs": [],
   "source": [
    "x_train = df_train[features]\n",
    "x_test = df_test[features]"
   ]
  },
  {
   "cell_type": "markdown",
   "metadata": {},
   "source": [
    "O último passo antes da aplicação do modelo de regressão é a normalização dos nossos dados. Para isso precisaremos importar o Preprocessing do Sklearn.\n",
    "\n",
    "Um ponto importante é que eu **nunca** devo fazer um fit nos dados de teste, o fit é feito nos dados de treino"
   ]
  },
  {
   "cell_type": "code",
   "execution_count": 31,
   "metadata": {},
   "outputs": [],
   "source": [
    "from sklearn.preprocessing import StandardScaler\n",
    "sc = StandardScaler()\n",
    "\n",
    "x_train = sc.fit_transform(x_train)\n",
    "\n",
    "x_test = sc.transform(x_test)"
   ]
  },
  {
   "cell_type": "markdown",
   "metadata": {},
   "source": [
    "**Modelo Random Forest Regressor**\n",
    "\n",
    "Iremos prever as notas de matemática utilizando o modelo de Regressão Random Forest."
   ]
  },
  {
   "cell_type": "code",
   "execution_count": 33,
   "metadata": {},
   "outputs": [],
   "source": [
    "from sklearn.ensemble import RandomForestRegressor\n",
    "regressor = RandomForestRegressor(\n",
    "    criterion = 'mae',\n",
    "    max_leaf_nodes=None,\n",
    "    min_impurity_split=None,\n",
    "    min_samples_leaf=1,\n",
    "    min_samples_split=2,\n",
    "    min_weight_fraction_leaf=0.0,\n",
    "    n_estimators= 500,\n",
    "    n_jobs=-1,\n",
    "    random_state=0,\n",
    "    verbose=0,\n",
    "    warm_start=False\n",
    ")"
   ]
  },
  {
   "cell_type": "markdown",
   "metadata": {},
   "source": [
    "Vamos fazer um fit nos nossos dados de Treino e treinar nosso modelo para aplicar posteriormente nos nossos dados de teste."
   ]
  },
  {
   "cell_type": "code",
   "execution_count": 36,
   "metadata": {},
   "outputs": [
    {
     "data": {
      "text/plain": [
       "RandomForestRegressor(bootstrap=True, ccp_alpha=0.0, criterion='mae',\n",
       "                      max_depth=None, max_features='auto', max_leaf_nodes=None,\n",
       "                      max_samples=None, min_impurity_decrease=0.0,\n",
       "                      min_impurity_split=None, min_samples_leaf=1,\n",
       "                      min_samples_split=2, min_weight_fraction_leaf=0.0,\n",
       "                      n_estimators=500, n_jobs=-1, oob_score=False,\n",
       "                      random_state=0, verbose=0, warm_start=False)"
      ]
     },
     "execution_count": 36,
     "metadata": {},
     "output_type": "execute_result"
    }
   ],
   "source": [
    "regressor.fit(x_train, y_train)"
   ]
  },
  {
   "cell_type": "markdown",
   "metadata": {},
   "source": [
    "Agora iremos aplicar o nosso modelo nos nossos dados de teste e prever a nota de matemática."
   ]
  },
  {
   "cell_type": "code",
   "execution_count": 37,
   "metadata": {},
   "outputs": [],
   "source": [
    "predict_note = regressor.predict(x_test)"
   ]
  },
  {
   "cell_type": "code",
   "execution_count": 38,
   "metadata": {},
   "outputs": [
    {
     "name": "stdout",
     "output_type": "stream",
     "text": [
      "[443.108  443.6941 582.3845 ... 485.2814 705.8648 478.6562]\n"
     ]
    }
   ],
   "source": [
    "print(predict_note)"
   ]
  },
  {
   "cell_type": "markdown",
   "metadata": {},
   "source": [
    "Temos um array com as notas que foram previstas por nosso modelo. Vamos transformar esse array em uma série."
   ]
  },
  {
   "cell_type": "code",
   "execution_count": 45,
   "metadata": {},
   "outputs": [
    {
     "data": {
      "text/plain": [
       "0       443.1080\n",
       "1       443.6941\n",
       "2       582.3845\n",
       "3       488.0686\n",
       "4       475.2004\n",
       "          ...   \n",
       "3281    529.2153\n",
       "3282    471.4718\n",
       "3283    485.2814\n",
       "3284    705.8648\n",
       "3285    478.6562\n",
       "Length: 3286, dtype: float64"
      ]
     },
     "execution_count": 45,
     "metadata": {},
     "output_type": "execute_result"
    }
   ],
   "source": [
    "predict_note = pd.Series(predict_note)\n",
    "predict_note"
   ]
  },
  {
   "cell_type": "markdown",
   "metadata": {},
   "source": [
    "Os números de inscricao se encontram em nosso dataset de test e iremos o colocar em uma variável para criar um dataframe que contenha o número da inscrição e as notas previstas pelo nosso modelo."
   ]
  },
  {
   "cell_type": "code",
   "execution_count": 46,
   "metadata": {},
   "outputs": [],
   "source": [
    "num_inscricao = df_test['NU_INSCRICAO']"
   ]
  },
  {
   "cell_type": "code",
   "execution_count": 50,
   "metadata": {},
   "outputs": [
    {
     "data": {
      "text/html": [
       "<div>\n",
       "<style scoped>\n",
       "    .dataframe tbody tr th:only-of-type {\n",
       "        vertical-align: middle;\n",
       "    }\n",
       "\n",
       "    .dataframe tbody tr th {\n",
       "        vertical-align: top;\n",
       "    }\n",
       "\n",
       "    .dataframe thead th {\n",
       "        text-align: right;\n",
       "    }\n",
       "</style>\n",
       "<table border=\"1\" class=\"dataframe\">\n",
       "  <thead>\n",
       "    <tr style=\"text-align: right;\">\n",
       "      <th></th>\n",
       "      <th>NU_INSCRICAO</th>\n",
       "      <th>0</th>\n",
       "    </tr>\n",
       "  </thead>\n",
       "  <tbody>\n",
       "    <tr>\n",
       "      <th>0</th>\n",
       "      <td>73ff9fcc02f0a99919906c942c2e1a1042cdcf98</td>\n",
       "      <td>443.1080</td>\n",
       "    </tr>\n",
       "    <tr>\n",
       "      <th>1</th>\n",
       "      <td>71a95f9f1b91a82c65ad94abbdf9f54e6066f968</td>\n",
       "      <td>443.6941</td>\n",
       "    </tr>\n",
       "    <tr>\n",
       "      <th>2</th>\n",
       "      <td>b38a03232f43b11c9d0788abaf060f7366053b6d</td>\n",
       "      <td>582.3845</td>\n",
       "    </tr>\n",
       "    <tr>\n",
       "      <th>3</th>\n",
       "      <td>NaN</td>\n",
       "      <td>488.0686</td>\n",
       "    </tr>\n",
       "    <tr>\n",
       "      <th>4</th>\n",
       "      <td>715494628a50142ce8cb17191cfe6d0f3cae0934</td>\n",
       "      <td>475.2004</td>\n",
       "    </tr>\n",
       "    <tr>\n",
       "      <th>...</th>\n",
       "      <td>...</td>\n",
       "      <td>...</td>\n",
       "    </tr>\n",
       "    <tr>\n",
       "      <th>4570</th>\n",
       "      <td>13aaf6335f43cfc1b8baeac559324f20b2653724</td>\n",
       "      <td>NaN</td>\n",
       "    </tr>\n",
       "    <tr>\n",
       "      <th>4571</th>\n",
       "      <td>dac0f22429c7f8e3931d0abaf5dfc8e5c772a48b</td>\n",
       "      <td>NaN</td>\n",
       "    </tr>\n",
       "    <tr>\n",
       "      <th>4572</th>\n",
       "      <td>a75fa8770257e7c9368d059fe53d9ef431f4bdef</td>\n",
       "      <td>NaN</td>\n",
       "    </tr>\n",
       "    <tr>\n",
       "      <th>4573</th>\n",
       "      <td>655fa6306720ff16e825903b5422a46608a77545</td>\n",
       "      <td>NaN</td>\n",
       "    </tr>\n",
       "    <tr>\n",
       "      <th>4574</th>\n",
       "      <td>1f4bc3e3d56212d500625bfe8ac78ccff4362293</td>\n",
       "      <td>NaN</td>\n",
       "    </tr>\n",
       "  </tbody>\n",
       "</table>\n",
       "<p>4223 rows × 2 columns</p>\n",
       "</div>"
      ],
      "text/plain": [
       "                                  NU_INSCRICAO         0\n",
       "0     73ff9fcc02f0a99919906c942c2e1a1042cdcf98  443.1080\n",
       "1     71a95f9f1b91a82c65ad94abbdf9f54e6066f968  443.6941\n",
       "2     b38a03232f43b11c9d0788abaf060f7366053b6d  582.3845\n",
       "3                                          NaN  488.0686\n",
       "4     715494628a50142ce8cb17191cfe6d0f3cae0934  475.2004\n",
       "...                                        ...       ...\n",
       "4570  13aaf6335f43cfc1b8baeac559324f20b2653724       NaN\n",
       "4571  dac0f22429c7f8e3931d0abaf5dfc8e5c772a48b       NaN\n",
       "4572  a75fa8770257e7c9368d059fe53d9ef431f4bdef       NaN\n",
       "4573  655fa6306720ff16e825903b5422a46608a77545       NaN\n",
       "4574  1f4bc3e3d56212d500625bfe8ac78ccff4362293       NaN\n",
       "\n",
       "[4223 rows x 2 columns]"
      ]
     },
     "execution_count": 50,
     "metadata": {},
     "output_type": "execute_result"
    }
   ],
   "source": [
    "answer = pd.concat([num_inscricao, predict_note], axis=1)\n",
    "answer"
   ]
  },
  {
   "cell_type": "markdown",
   "metadata": {},
   "source": [
    "Nosso DataSet contém o número de inscrição e as notas previstas, entretanto precisamos renomear a coluna das notas conforme foi pedido."
   ]
  },
  {
   "cell_type": "code",
   "execution_count": 51,
   "metadata": {},
   "outputs": [
    {
     "data": {
      "text/html": [
       "<div>\n",
       "<style scoped>\n",
       "    .dataframe tbody tr th:only-of-type {\n",
       "        vertical-align: middle;\n",
       "    }\n",
       "\n",
       "    .dataframe tbody tr th {\n",
       "        vertical-align: top;\n",
       "    }\n",
       "\n",
       "    .dataframe thead th {\n",
       "        text-align: right;\n",
       "    }\n",
       "</style>\n",
       "<table border=\"1\" class=\"dataframe\">\n",
       "  <thead>\n",
       "    <tr style=\"text-align: right;\">\n",
       "      <th></th>\n",
       "      <th>NU_INSCRICAO</th>\n",
       "      <th>NU_NOTA_MT</th>\n",
       "    </tr>\n",
       "  </thead>\n",
       "  <tbody>\n",
       "    <tr>\n",
       "      <th>0</th>\n",
       "      <td>73ff9fcc02f0a99919906c942c2e1a1042cdcf98</td>\n",
       "      <td>443.1080</td>\n",
       "    </tr>\n",
       "    <tr>\n",
       "      <th>1</th>\n",
       "      <td>71a95f9f1b91a82c65ad94abbdf9f54e6066f968</td>\n",
       "      <td>443.6941</td>\n",
       "    </tr>\n",
       "    <tr>\n",
       "      <th>2</th>\n",
       "      <td>b38a03232f43b11c9d0788abaf060f7366053b6d</td>\n",
       "      <td>582.3845</td>\n",
       "    </tr>\n",
       "    <tr>\n",
       "      <th>3</th>\n",
       "      <td>NaN</td>\n",
       "      <td>488.0686</td>\n",
       "    </tr>\n",
       "    <tr>\n",
       "      <th>4</th>\n",
       "      <td>715494628a50142ce8cb17191cfe6d0f3cae0934</td>\n",
       "      <td>475.2004</td>\n",
       "    </tr>\n",
       "    <tr>\n",
       "      <th>...</th>\n",
       "      <td>...</td>\n",
       "      <td>...</td>\n",
       "    </tr>\n",
       "    <tr>\n",
       "      <th>4570</th>\n",
       "      <td>13aaf6335f43cfc1b8baeac559324f20b2653724</td>\n",
       "      <td>NaN</td>\n",
       "    </tr>\n",
       "    <tr>\n",
       "      <th>4571</th>\n",
       "      <td>dac0f22429c7f8e3931d0abaf5dfc8e5c772a48b</td>\n",
       "      <td>NaN</td>\n",
       "    </tr>\n",
       "    <tr>\n",
       "      <th>4572</th>\n",
       "      <td>a75fa8770257e7c9368d059fe53d9ef431f4bdef</td>\n",
       "      <td>NaN</td>\n",
       "    </tr>\n",
       "    <tr>\n",
       "      <th>4573</th>\n",
       "      <td>655fa6306720ff16e825903b5422a46608a77545</td>\n",
       "      <td>NaN</td>\n",
       "    </tr>\n",
       "    <tr>\n",
       "      <th>4574</th>\n",
       "      <td>1f4bc3e3d56212d500625bfe8ac78ccff4362293</td>\n",
       "      <td>NaN</td>\n",
       "    </tr>\n",
       "  </tbody>\n",
       "</table>\n",
       "<p>4223 rows × 2 columns</p>\n",
       "</div>"
      ],
      "text/plain": [
       "                                  NU_INSCRICAO  NU_NOTA_MT\n",
       "0     73ff9fcc02f0a99919906c942c2e1a1042cdcf98    443.1080\n",
       "1     71a95f9f1b91a82c65ad94abbdf9f54e6066f968    443.6941\n",
       "2     b38a03232f43b11c9d0788abaf060f7366053b6d    582.3845\n",
       "3                                          NaN    488.0686\n",
       "4     715494628a50142ce8cb17191cfe6d0f3cae0934    475.2004\n",
       "...                                        ...         ...\n",
       "4570  13aaf6335f43cfc1b8baeac559324f20b2653724         NaN\n",
       "4571  dac0f22429c7f8e3931d0abaf5dfc8e5c772a48b         NaN\n",
       "4572  a75fa8770257e7c9368d059fe53d9ef431f4bdef         NaN\n",
       "4573  655fa6306720ff16e825903b5422a46608a77545         NaN\n",
       "4574  1f4bc3e3d56212d500625bfe8ac78ccff4362293         NaN\n",
       "\n",
       "[4223 rows x 2 columns]"
      ]
     },
     "execution_count": 51,
     "metadata": {},
     "output_type": "execute_result"
    }
   ],
   "source": [
    "answer.rename(columns={0:'NU_NOTA_MT'}, inplace=True)\n",
    "answer"
   ]
  },
  {
   "cell_type": "markdown",
   "metadata": {},
   "source": [
    "Agora vamos criar um arquivo para submissão do desafio. O desafio pede um arquivo com o nome answer.csv e que contenha apenas 2 colunas, como podemos observar o dataframe que construímos possui índice, vamos colocar o index como false para removê-lo.\n"
   ]
  },
  {
   "cell_type": "code",
   "execution_count": 52,
   "metadata": {},
   "outputs": [],
   "source": [
    "answer.to_csv('answer.csv',columns=['NU_INSCRICAO', 'NU_NOTA_MT'], sep=',', index=False)"
   ]
  }
 ],
 "metadata": {
  "kernelspec": {
   "display_name": "Python 3",
   "language": "python",
   "name": "python3"
  },
  "language_info": {
   "codemirror_mode": {
    "name": "ipython",
    "version": 3
   },
   "file_extension": ".py",
   "mimetype": "text/x-python",
   "name": "python",
   "nbconvert_exporter": "python",
   "pygments_lexer": "ipython3",
   "version": "3.7.6"
  }
 },
 "nbformat": 4,
 "nbformat_minor": 2
}
