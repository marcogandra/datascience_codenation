{
  "nbformat": 4,
  "nbformat_minor": 0,
  "metadata": {
    "colab": {
      "name": "Codenation Tensor Flow Transform.ipynb",
      "provenance": [],
      "authorship_tag": "ABX9TyNyzf0LWCCf7p/KW3GBaNO3",
      "include_colab_link": true
    },
    "kernelspec": {
      "name": "python3",
      "display_name": "Python 3"
    }
  },
  "cells": [
    {
      "cell_type": "markdown",
      "metadata": {
        "id": "view-in-github",
        "colab_type": "text"
      },
      "source": [
        "<a href=\"https://colab.research.google.com/github/vvalcristina/datascience_codenation/blob/master/Codenation_Tensor_Flow_Transform.ipynb\" target=\"_parent\"><img src=\"https://colab.research.google.com/assets/colab-badge.svg\" alt=\"Open In Colab\"/></a>"
      ]
    },
    {
      "cell_type": "markdown",
      "metadata": {
        "id": "SU7gu73pvtrQ",
        "colab_type": "text"
      },
      "source": [
        "### **Tensor Flow Transform**\n",
        "\n",
        "Aula com base no módulo AceleraDev Data Science.\n",
        "\n",
        "Documentação do [Transform](https://www.tensorflow.org/tfx/transform/get_started)"
      ]
    },
    {
      "cell_type": "markdown",
      "metadata": {
        "id": "pwKCI3jCv8Sl",
        "colab_type": "text"
      },
      "source": [
        "**Instalando as Libs**"
      ]
    },
    {
      "cell_type": "code",
      "metadata": {
        "id": "jHqXpexEvlfO",
        "colab_type": "code",
        "colab": {
          "base_uri": "https://localhost:8080/",
          "height": 1000
        },
        "outputId": "18115cc4-39cf-4673-a86f-a7b28fdad7a8"
      },
      "source": [
        "!pip install tensorflow-transform"
      ],
      "execution_count": 1,
      "outputs": [
        {
          "output_type": "stream",
          "text": [
            "Requirement already satisfied: tensorflow-transform in /usr/local/lib/python3.6/dist-packages (0.22.0)\n",
            "Requirement already satisfied: tfx-bsl<0.23,>=0.22 in /usr/local/lib/python3.6/dist-packages (from tensorflow-transform) (0.22.0)\n",
            "Requirement already satisfied: numpy<2,>=1.16 in /usr/local/lib/python3.6/dist-packages (from tensorflow-transform) (1.18.4)\n",
            "Requirement already satisfied: six<2,>=1.12 in /usr/local/lib/python3.6/dist-packages (from tensorflow-transform) (1.12.0)\n",
            "Requirement already satisfied: tensorflow-metadata<0.23,>=0.22 in /usr/local/lib/python3.6/dist-packages (from tensorflow-transform) (0.22.1)\n",
            "Requirement already satisfied: tensorflow!=2.0.*,<2.3,>=1.15 in /usr/local/lib/python3.6/dist-packages (from tensorflow-transform) (2.2.0)\n",
            "Requirement already satisfied: pydot<2,>=1.2 in /usr/local/lib/python3.6/dist-packages (from tensorflow-transform) (1.3.0)\n",
            "Requirement already satisfied: apache-beam[gcp]<3,>=2.20 in /usr/local/lib/python3.6/dist-packages (from tensorflow-transform) (2.21.0)\n",
            "Requirement already satisfied: protobuf<4,>=3.7 in /usr/local/lib/python3.6/dist-packages (from tensorflow-transform) (3.10.0)\n",
            "Requirement already satisfied: absl-py<0.9,>=0.7 in /usr/local/lib/python3.6/dist-packages (from tensorflow-transform) (0.8.1)\n",
            "Requirement already satisfied: google-api-python-client<2,>=1.7.11 in /usr/local/lib/python3.6/dist-packages (from tfx-bsl<0.23,>=0.22->tensorflow-transform) (1.7.12)\n",
            "Requirement already satisfied: pyarrow<0.17,>=0.16.0 in /usr/local/lib/python3.6/dist-packages (from tfx-bsl<0.23,>=0.22->tensorflow-transform) (0.16.0)\n",
            "Requirement already satisfied: tensorflow-serving-api<3,>=1.15 in /usr/local/lib/python3.6/dist-packages (from tfx-bsl<0.23,>=0.22->tensorflow-transform) (2.2.0)\n",
            "Requirement already satisfied: googleapis-common-protos in /usr/local/lib/python3.6/dist-packages (from tensorflow-metadata<0.23,>=0.22->tensorflow-transform) (1.51.0)\n",
            "Requirement already satisfied: termcolor>=1.1.0 in /usr/local/lib/python3.6/dist-packages (from tensorflow!=2.0.*,<2.3,>=1.15->tensorflow-transform) (1.1.0)\n",
            "Requirement already satisfied: keras-preprocessing>=1.1.0 in /usr/local/lib/python3.6/dist-packages (from tensorflow!=2.0.*,<2.3,>=1.15->tensorflow-transform) (1.1.2)\n",
            "Requirement already satisfied: wrapt>=1.11.1 in /usr/local/lib/python3.6/dist-packages (from tensorflow!=2.0.*,<2.3,>=1.15->tensorflow-transform) (1.12.1)\n",
            "Requirement already satisfied: wheel>=0.26; python_version >= \"3\" in /usr/local/lib/python3.6/dist-packages (from tensorflow!=2.0.*,<2.3,>=1.15->tensorflow-transform) (0.34.2)\n",
            "Requirement already satisfied: gast==0.3.3 in /usr/local/lib/python3.6/dist-packages (from tensorflow!=2.0.*,<2.3,>=1.15->tensorflow-transform) (0.3.3)\n",
            "Requirement already satisfied: tensorflow-estimator<2.3.0,>=2.2.0 in /usr/local/lib/python3.6/dist-packages (from tensorflow!=2.0.*,<2.3,>=1.15->tensorflow-transform) (2.2.0)\n",
            "Requirement already satisfied: astunparse==1.6.3 in /usr/local/lib/python3.6/dist-packages (from tensorflow!=2.0.*,<2.3,>=1.15->tensorflow-transform) (1.6.3)\n",
            "Requirement already satisfied: grpcio>=1.8.6 in /usr/local/lib/python3.6/dist-packages (from tensorflow!=2.0.*,<2.3,>=1.15->tensorflow-transform) (1.29.0)\n",
            "Requirement already satisfied: h5py<2.11.0,>=2.10.0 in /usr/local/lib/python3.6/dist-packages (from tensorflow!=2.0.*,<2.3,>=1.15->tensorflow-transform) (2.10.0)\n",
            "Requirement already satisfied: scipy==1.4.1; python_version >= \"3\" in /usr/local/lib/python3.6/dist-packages (from tensorflow!=2.0.*,<2.3,>=1.15->tensorflow-transform) (1.4.1)\n",
            "Requirement already satisfied: tensorboard<2.3.0,>=2.2.0 in /usr/local/lib/python3.6/dist-packages (from tensorflow!=2.0.*,<2.3,>=1.15->tensorflow-transform) (2.2.2)\n",
            "Requirement already satisfied: google-pasta>=0.1.8 in /usr/local/lib/python3.6/dist-packages (from tensorflow!=2.0.*,<2.3,>=1.15->tensorflow-transform) (0.2.0)\n",
            "Requirement already satisfied: opt-einsum>=2.3.2 in /usr/local/lib/python3.6/dist-packages (from tensorflow!=2.0.*,<2.3,>=1.15->tensorflow-transform) (3.2.1)\n",
            "Requirement already satisfied: pyparsing>=2.1.4 in /usr/local/lib/python3.6/dist-packages (from pydot<2,>=1.2->tensorflow-transform) (2.4.7)\n",
            "Requirement already satisfied: mock<3.0.0,>=1.0.1 in /usr/local/lib/python3.6/dist-packages (from apache-beam[gcp]<3,>=2.20->tensorflow-transform) (2.0.0)\n",
            "Requirement already satisfied: crcmod<2.0,>=1.7 in /usr/local/lib/python3.6/dist-packages (from apache-beam[gcp]<3,>=2.20->tensorflow-transform) (1.7)\n",
            "Requirement already satisfied: dill<0.3.2,>=0.3.1.1 in /usr/local/lib/python3.6/dist-packages (from apache-beam[gcp]<3,>=2.20->tensorflow-transform) (0.3.1.1)\n",
            "Requirement already satisfied: fastavro<0.22,>=0.21.4 in /usr/local/lib/python3.6/dist-packages (from apache-beam[gcp]<3,>=2.20->tensorflow-transform) (0.21.24)\n",
            "Requirement already satisfied: pytz>=2018.3 in /usr/local/lib/python3.6/dist-packages (from apache-beam[gcp]<3,>=2.20->tensorflow-transform) (2018.9)\n",
            "Requirement already satisfied: hdfs<3.0.0,>=2.1.0 in /usr/local/lib/python3.6/dist-packages (from apache-beam[gcp]<3,>=2.20->tensorflow-transform) (2.5.8)\n",
            "Requirement already satisfied: python-dateutil<3,>=2.8.0 in /usr/local/lib/python3.6/dist-packages (from apache-beam[gcp]<3,>=2.20->tensorflow-transform) (2.8.1)\n",
            "Requirement already satisfied: httplib2<=0.12.0,>=0.8 in /usr/local/lib/python3.6/dist-packages (from apache-beam[gcp]<3,>=2.20->tensorflow-transform) (0.12.0)\n",
            "Requirement already satisfied: avro-python3!=1.9.2,<1.10.0,>=1.8.1; python_version >= \"3.0\" in /usr/local/lib/python3.6/dist-packages (from apache-beam[gcp]<3,>=2.20->tensorflow-transform) (1.9.2.1)\n",
            "Requirement already satisfied: future<1.0.0,>=0.16.0 in /usr/local/lib/python3.6/dist-packages (from apache-beam[gcp]<3,>=2.20->tensorflow-transform) (0.16.0)\n",
            "Requirement already satisfied: oauth2client<4,>=2.0.1 in /usr/local/lib/python3.6/dist-packages (from apache-beam[gcp]<3,>=2.20->tensorflow-transform) (3.0.0)\n",
            "Requirement already satisfied: typing-extensions<3.8.0,>=3.7.0 in /usr/local/lib/python3.6/dist-packages (from apache-beam[gcp]<3,>=2.20->tensorflow-transform) (3.7.4.2)\n",
            "Requirement already satisfied: pymongo<4.0.0,>=3.8.0 in /usr/local/lib/python3.6/dist-packages (from apache-beam[gcp]<3,>=2.20->tensorflow-transform) (3.10.1)\n",
            "Requirement already satisfied: cachetools<4,>=3.1.0; extra == \"gcp\" in /usr/local/lib/python3.6/dist-packages (from apache-beam[gcp]<3,>=2.20->tensorflow-transform) (3.1.1)\n",
            "Requirement already satisfied: google-cloud-pubsub<1.1.0,>=0.39.0; extra == \"gcp\" in /usr/local/lib/python3.6/dist-packages (from apache-beam[gcp]<3,>=2.20->tensorflow-transform) (1.0.2)\n",
            "Requirement already satisfied: google-cloud-vision<0.43.0,>=0.38.0; extra == \"gcp\" in /usr/local/lib/python3.6/dist-packages (from apache-beam[gcp]<3,>=2.20->tensorflow-transform) (0.42.0)\n",
            "Requirement already satisfied: google-cloud-language<2,>=1.3.0; extra == \"gcp\" in /usr/local/lib/python3.6/dist-packages (from apache-beam[gcp]<3,>=2.20->tensorflow-transform) (1.3.0)\n",
            "Requirement already satisfied: google-cloud-videointelligence<1.14.0,>=1.8.0; extra == \"gcp\" in /usr/local/lib/python3.6/dist-packages (from apache-beam[gcp]<3,>=2.20->tensorflow-transform) (1.13.0)\n",
            "Requirement already satisfied: google-cloud-bigquery<=1.24.0,>=1.6.0; extra == \"gcp\" in /usr/local/lib/python3.6/dist-packages (from apache-beam[gcp]<3,>=2.20->tensorflow-transform) (1.21.0)\n",
            "Requirement already satisfied: grpcio-gcp<1,>=0.2.2; extra == \"gcp\" in /usr/local/lib/python3.6/dist-packages (from apache-beam[gcp]<3,>=2.20->tensorflow-transform) (0.2.2)\n",
            "Requirement already satisfied: google-cloud-bigtable<1.1.0,>=0.31.1; extra == \"gcp\" in /usr/local/lib/python3.6/dist-packages (from apache-beam[gcp]<3,>=2.20->tensorflow-transform) (1.0.0)\n",
            "Requirement already satisfied: google-cloud-core<2,>=0.28.1; extra == \"gcp\" in /usr/local/lib/python3.6/dist-packages (from apache-beam[gcp]<3,>=2.20->tensorflow-transform) (1.0.3)\n",
            "Requirement already satisfied: google-cloud-datastore<1.8.0,>=1.7.1; extra == \"gcp\" in /usr/local/lib/python3.6/dist-packages (from apache-beam[gcp]<3,>=2.20->tensorflow-transform) (1.7.4)\n",
            "Requirement already satisfied: google-cloud-dlp<=0.13.0,>=0.12.0; extra == \"gcp\" in /usr/local/lib/python3.6/dist-packages (from apache-beam[gcp]<3,>=2.20->tensorflow-transform) (0.13.0)\n",
            "Requirement already satisfied: google-cloud-spanner<1.14.0,>=1.13.0; extra == \"gcp\" in /usr/local/lib/python3.6/dist-packages (from apache-beam[gcp]<3,>=2.20->tensorflow-transform) (1.13.0)\n",
            "Requirement already satisfied: google-apitools<0.5.29,>=0.5.28; extra == \"gcp\" in /usr/local/lib/python3.6/dist-packages (from apache-beam[gcp]<3,>=2.20->tensorflow-transform) (0.5.28)\n",
            "Requirement already satisfied: setuptools in /usr/local/lib/python3.6/dist-packages (from protobuf<4,>=3.7->tensorflow-transform) (47.1.1)\n",
            "Requirement already satisfied: google-auth>=1.4.1 in /usr/local/lib/python3.6/dist-packages (from google-api-python-client<2,>=1.7.11->tfx-bsl<0.23,>=0.22->tensorflow-transform) (1.7.2)\n",
            "Requirement already satisfied: uritemplate<4dev,>=3.0.0 in /usr/local/lib/python3.6/dist-packages (from google-api-python-client<2,>=1.7.11->tfx-bsl<0.23,>=0.22->tensorflow-transform) (3.0.1)\n",
            "Requirement already satisfied: google-auth-httplib2>=0.0.3 in /usr/local/lib/python3.6/dist-packages (from google-api-python-client<2,>=1.7.11->tfx-bsl<0.23,>=0.22->tensorflow-transform) (0.0.3)\n",
            "Requirement already satisfied: google-auth-oauthlib<0.5,>=0.4.1 in /usr/local/lib/python3.6/dist-packages (from tensorboard<2.3.0,>=2.2.0->tensorflow!=2.0.*,<2.3,>=1.15->tensorflow-transform) (0.4.1)\n",
            "Requirement already satisfied: requests<3,>=2.21.0 in /usr/local/lib/python3.6/dist-packages (from tensorboard<2.3.0,>=2.2.0->tensorflow!=2.0.*,<2.3,>=1.15->tensorflow-transform) (2.23.0)\n",
            "Requirement already satisfied: tensorboard-plugin-wit>=1.6.0 in /usr/local/lib/python3.6/dist-packages (from tensorboard<2.3.0,>=2.2.0->tensorflow!=2.0.*,<2.3,>=1.15->tensorflow-transform) (1.6.0.post3)\n",
            "Requirement already satisfied: werkzeug>=0.11.15 in /usr/local/lib/python3.6/dist-packages (from tensorboard<2.3.0,>=2.2.0->tensorflow!=2.0.*,<2.3,>=1.15->tensorflow-transform) (1.0.1)\n",
            "Requirement already satisfied: markdown>=2.6.8 in /usr/local/lib/python3.6/dist-packages (from tensorboard<2.3.0,>=2.2.0->tensorflow!=2.0.*,<2.3,>=1.15->tensorflow-transform) (3.2.2)\n",
            "Requirement already satisfied: pbr>=0.11 in /usr/local/lib/python3.6/dist-packages (from mock<3.0.0,>=1.0.1->apache-beam[gcp]<3,>=2.20->tensorflow-transform) (5.4.5)\n",
            "Requirement already satisfied: docopt in /usr/local/lib/python3.6/dist-packages (from hdfs<3.0.0,>=2.1.0->apache-beam[gcp]<3,>=2.20->tensorflow-transform) (0.6.2)\n",
            "Requirement already satisfied: rsa>=3.1.4 in /usr/local/lib/python3.6/dist-packages (from oauth2client<4,>=2.0.1->apache-beam[gcp]<3,>=2.20->tensorflow-transform) (4.0)\n",
            "Requirement already satisfied: pyasn1>=0.1.7 in /usr/local/lib/python3.6/dist-packages (from oauth2client<4,>=2.0.1->apache-beam[gcp]<3,>=2.20->tensorflow-transform) (0.4.8)\n",
            "Requirement already satisfied: pyasn1-modules>=0.0.5 in /usr/local/lib/python3.6/dist-packages (from oauth2client<4,>=2.0.1->apache-beam[gcp]<3,>=2.20->tensorflow-transform) (0.2.8)\n",
            "Requirement already satisfied: grpc-google-iam-v1<0.13dev,>=0.12.3 in /usr/local/lib/python3.6/dist-packages (from google-cloud-pubsub<1.1.0,>=0.39.0; extra == \"gcp\"->apache-beam[gcp]<3,>=2.20->tensorflow-transform) (0.12.3)\n",
            "Requirement already satisfied: google-api-core[grpc]<2.0.0dev,>=1.14.0 in /usr/local/lib/python3.6/dist-packages (from google-cloud-pubsub<1.1.0,>=0.39.0; extra == \"gcp\"->apache-beam[gcp]<3,>=2.20->tensorflow-transform) (1.16.0)\n",
            "Requirement already satisfied: google-resumable-media!=0.4.0,<0.5.0dev,>=0.3.1 in /usr/local/lib/python3.6/dist-packages (from google-cloud-bigquery<=1.24.0,>=1.6.0; extra == \"gcp\"->apache-beam[gcp]<3,>=2.20->tensorflow-transform) (0.4.1)\n",
            "Requirement already satisfied: fasteners>=0.14 in /usr/local/lib/python3.6/dist-packages (from google-apitools<0.5.29,>=0.5.28; extra == \"gcp\"->apache-beam[gcp]<3,>=2.20->tensorflow-transform) (0.15)\n",
            "Requirement already satisfied: requests-oauthlib>=0.7.0 in /usr/local/lib/python3.6/dist-packages (from google-auth-oauthlib<0.5,>=0.4.1->tensorboard<2.3.0,>=2.2.0->tensorflow!=2.0.*,<2.3,>=1.15->tensorflow-transform) (1.3.0)\n",
            "Requirement already satisfied: certifi>=2017.4.17 in /usr/local/lib/python3.6/dist-packages (from requests<3,>=2.21.0->tensorboard<2.3.0,>=2.2.0->tensorflow!=2.0.*,<2.3,>=1.15->tensorflow-transform) (2020.4.5.1)\n",
            "Requirement already satisfied: urllib3!=1.25.0,!=1.25.1,<1.26,>=1.21.1 in /usr/local/lib/python3.6/dist-packages (from requests<3,>=2.21.0->tensorboard<2.3.0,>=2.2.0->tensorflow!=2.0.*,<2.3,>=1.15->tensorflow-transform) (1.24.3)\n",
            "Requirement already satisfied: chardet<4,>=3.0.2 in /usr/local/lib/python3.6/dist-packages (from requests<3,>=2.21.0->tensorboard<2.3.0,>=2.2.0->tensorflow!=2.0.*,<2.3,>=1.15->tensorflow-transform) (3.0.4)\n",
            "Requirement already satisfied: idna<3,>=2.5 in /usr/local/lib/python3.6/dist-packages (from requests<3,>=2.21.0->tensorboard<2.3.0,>=2.2.0->tensorflow!=2.0.*,<2.3,>=1.15->tensorflow-transform) (2.9)\n",
            "Requirement already satisfied: importlib-metadata; python_version < \"3.8\" in /usr/local/lib/python3.6/dist-packages (from markdown>=2.6.8->tensorboard<2.3.0,>=2.2.0->tensorflow!=2.0.*,<2.3,>=1.15->tensorflow-transform) (1.6.0)\n",
            "Requirement already satisfied: monotonic>=0.1 in /usr/local/lib/python3.6/dist-packages (from fasteners>=0.14->google-apitools<0.5.29,>=0.5.28; extra == \"gcp\"->apache-beam[gcp]<3,>=2.20->tensorflow-transform) (1.5)\n",
            "Requirement already satisfied: oauthlib>=3.0.0 in /usr/local/lib/python3.6/dist-packages (from requests-oauthlib>=0.7.0->google-auth-oauthlib<0.5,>=0.4.1->tensorboard<2.3.0,>=2.2.0->tensorflow!=2.0.*,<2.3,>=1.15->tensorflow-transform) (3.1.0)\n",
            "Requirement already satisfied: zipp>=0.5 in /usr/local/lib/python3.6/dist-packages (from importlib-metadata; python_version < \"3.8\"->markdown>=2.6.8->tensorboard<2.3.0,>=2.2.0->tensorflow!=2.0.*,<2.3,>=1.15->tensorflow-transform) (3.1.0)\n"
          ],
          "name": "stdout"
        }
      ]
    },
    {
      "cell_type": "markdown",
      "metadata": {
        "id": "b9xvn2-9wHLP",
        "colab_type": "text"
      },
      "source": [
        "**Importando as libs**"
      ]
    },
    {
      "cell_type": "code",
      "metadata": {
        "id": "YPscMcNOwL57",
        "colab_type": "code",
        "colab": {}
      },
      "source": [
        "import tempfile\n",
        "import pandas as pd\n",
        "import tensorflow as tf\n",
        "import tensorflow_transform as tft\n",
        "import tensorflow_transform.beam.impl as tft_beam\n",
        "\n",
        "import apache_beam.io.iobase\n",
        "\n",
        "from __future__ import print_function\n",
        "from tensorflow_transform.tf_metadata import dataset_metadata, dataset_schema, schema_utils "
      ],
      "execution_count": 0,
      "outputs": []
    },
    {
      "cell_type": "markdown",
      "metadata": {
        "id": "SQD4vmLdwTel",
        "colab_type": "text"
      },
      "source": [
        "**Pré-processamento dos dados**\n"
      ]
    },
    {
      "cell_type": "code",
      "metadata": {
        "id": "LtWKqq8GwsAO",
        "colab_type": "code",
        "colab": {
          "base_uri": "https://localhost:8080/",
          "height": 122
        },
        "outputId": "b2db4d18-3a25-4fec-a789-5476d05049f6"
      },
      "source": [
        "from google.colab import drive\n",
        "drive.mount('/content/drive')"
      ],
      "execution_count": 3,
      "outputs": [
        {
          "output_type": "stream",
          "text": [
            "Go to this URL in a browser: https://accounts.google.com/o/oauth2/auth?client_id=947318989803-6bn6qk8qdgf4n4g3pfee6491hc0brc4i.apps.googleusercontent.com&redirect_uri=urn%3aietf%3awg%3aoauth%3a2.0%3aoob&response_type=code&scope=email%20https%3a%2f%2fwww.googleapis.com%2fauth%2fdocs.test%20https%3a%2f%2fwww.googleapis.com%2fauth%2fdrive%20https%3a%2f%2fwww.googleapis.com%2fauth%2fdrive.photos.readonly%20https%3a%2f%2fwww.googleapis.com%2fauth%2fpeopleapi.readonly\n",
            "\n",
            "Enter your authorization code:\n",
            "··········\n",
            "Mounted at /content/drive\n"
          ],
          "name": "stdout"
        }
      ]
    },
    {
      "cell_type": "code",
      "metadata": {
        "id": "SxMNT3g7w3Si",
        "colab_type": "code",
        "colab": {}
      },
      "source": [
        "dataset = pd.read_csv(\"/content/drive/My Drive/polution_small.csv\")"
      ],
      "execution_count": 0,
      "outputs": []
    },
    {
      "cell_type": "code",
      "metadata": {
        "id": "5PbobnSUxAOs",
        "colab_type": "code",
        "colab": {
          "base_uri": "https://localhost:8080/",
          "height": 204
        },
        "outputId": "77683016-0df3-4537-abdc-bf1409336fc7"
      },
      "source": [
        "dataset.head()"
      ],
      "execution_count": 6,
      "outputs": [
        {
          "output_type": "execute_result",
          "data": {
            "text/html": [
              "<div>\n",
              "<style scoped>\n",
              "    .dataframe tbody tr th:only-of-type {\n",
              "        vertical-align: middle;\n",
              "    }\n",
              "\n",
              "    .dataframe tbody tr th {\n",
              "        vertical-align: top;\n",
              "    }\n",
              "\n",
              "    .dataframe thead th {\n",
              "        text-align: right;\n",
              "    }\n",
              "</style>\n",
              "<table border=\"1\" class=\"dataframe\">\n",
              "  <thead>\n",
              "    <tr style=\"text-align: right;\">\n",
              "      <th></th>\n",
              "      <th>Date</th>\n",
              "      <th>pm10</th>\n",
              "      <th>no2</th>\n",
              "      <th>so2</th>\n",
              "      <th>soot</th>\n",
              "    </tr>\n",
              "  </thead>\n",
              "  <tbody>\n",
              "    <tr>\n",
              "      <th>0</th>\n",
              "      <td>1/1/2009</td>\n",
              "      <td>98.67</td>\n",
              "      <td>14.10</td>\n",
              "      <td>44.38</td>\n",
              "      <td>34.81</td>\n",
              "    </tr>\n",
              "    <tr>\n",
              "      <th>1</th>\n",
              "      <td>1/2/2009</td>\n",
              "      <td>52.33</td>\n",
              "      <td>14.10</td>\n",
              "      <td>29.75</td>\n",
              "      <td>33.06</td>\n",
              "    </tr>\n",
              "    <tr>\n",
              "      <th>2</th>\n",
              "      <td>1/3/2009</td>\n",
              "      <td>74.67</td>\n",
              "      <td>20.50</td>\n",
              "      <td>36.25</td>\n",
              "      <td>39.25</td>\n",
              "    </tr>\n",
              "    <tr>\n",
              "      <th>3</th>\n",
              "      <td>1/4/2009</td>\n",
              "      <td>72.00</td>\n",
              "      <td>17.30</td>\n",
              "      <td>46.44</td>\n",
              "      <td>34.38</td>\n",
              "    </tr>\n",
              "    <tr>\n",
              "      <th>4</th>\n",
              "      <td>1/5/2009</td>\n",
              "      <td>81.00</td>\n",
              "      <td>25.64</td>\n",
              "      <td>56.56</td>\n",
              "      <td>45.59</td>\n",
              "    </tr>\n",
              "  </tbody>\n",
              "</table>\n",
              "</div>"
            ],
            "text/plain": [
              "       Date   pm10    no2    so2   soot\n",
              "0  1/1/2009  98.67  14.10  44.38  34.81\n",
              "1  1/2/2009  52.33  14.10  29.75  33.06\n",
              "2  1/3/2009  74.67  20.50  36.25  39.25\n",
              "3  1/4/2009  72.00  17.30  46.44  34.38\n",
              "4  1/5/2009  81.00  25.64  56.56  45.59"
            ]
          },
          "metadata": {
            "tags": []
          },
          "execution_count": 6
        }
      ]
    },
    {
      "cell_type": "markdown",
      "metadata": {
        "id": "KEqRowgMxEVg",
        "colab_type": "text"
      },
      "source": [
        "**Removendo a coluna com Data**"
      ]
    },
    {
      "cell_type": "code",
      "metadata": {
        "id": "pxirHTM-xIlO",
        "colab_type": "code",
        "colab": {}
      },
      "source": [
        "features = dataset.drop(\"Date\", axis = 1)"
      ],
      "execution_count": 0,
      "outputs": []
    },
    {
      "cell_type": "code",
      "metadata": {
        "id": "SByB18WHxKZP",
        "colab_type": "code",
        "colab": {
          "base_uri": "https://localhost:8080/",
          "height": 204
        },
        "outputId": "16026267-a431-4cb2-e8b0-7bee1e6e3f78"
      },
      "source": [
        "features.head()"
      ],
      "execution_count": 8,
      "outputs": [
        {
          "output_type": "execute_result",
          "data": {
            "text/html": [
              "<div>\n",
              "<style scoped>\n",
              "    .dataframe tbody tr th:only-of-type {\n",
              "        vertical-align: middle;\n",
              "    }\n",
              "\n",
              "    .dataframe tbody tr th {\n",
              "        vertical-align: top;\n",
              "    }\n",
              "\n",
              "    .dataframe thead th {\n",
              "        text-align: right;\n",
              "    }\n",
              "</style>\n",
              "<table border=\"1\" class=\"dataframe\">\n",
              "  <thead>\n",
              "    <tr style=\"text-align: right;\">\n",
              "      <th></th>\n",
              "      <th>pm10</th>\n",
              "      <th>no2</th>\n",
              "      <th>so2</th>\n",
              "      <th>soot</th>\n",
              "    </tr>\n",
              "  </thead>\n",
              "  <tbody>\n",
              "    <tr>\n",
              "      <th>0</th>\n",
              "      <td>98.67</td>\n",
              "      <td>14.10</td>\n",
              "      <td>44.38</td>\n",
              "      <td>34.81</td>\n",
              "    </tr>\n",
              "    <tr>\n",
              "      <th>1</th>\n",
              "      <td>52.33</td>\n",
              "      <td>14.10</td>\n",
              "      <td>29.75</td>\n",
              "      <td>33.06</td>\n",
              "    </tr>\n",
              "    <tr>\n",
              "      <th>2</th>\n",
              "      <td>74.67</td>\n",
              "      <td>20.50</td>\n",
              "      <td>36.25</td>\n",
              "      <td>39.25</td>\n",
              "    </tr>\n",
              "    <tr>\n",
              "      <th>3</th>\n",
              "      <td>72.00</td>\n",
              "      <td>17.30</td>\n",
              "      <td>46.44</td>\n",
              "      <td>34.38</td>\n",
              "    </tr>\n",
              "    <tr>\n",
              "      <th>4</th>\n",
              "      <td>81.00</td>\n",
              "      <td>25.64</td>\n",
              "      <td>56.56</td>\n",
              "      <td>45.59</td>\n",
              "    </tr>\n",
              "  </tbody>\n",
              "</table>\n",
              "</div>"
            ],
            "text/plain": [
              "    pm10    no2    so2   soot\n",
              "0  98.67  14.10  44.38  34.81\n",
              "1  52.33  14.10  29.75  33.06\n",
              "2  74.67  20.50  36.25  39.25\n",
              "3  72.00  17.30  46.44  34.38\n",
              "4  81.00  25.64  56.56  45.59"
            ]
          },
          "metadata": {
            "tags": []
          },
          "execution_count": 8
        }
      ]
    },
    {
      "cell_type": "markdown",
      "metadata": {
        "id": "EK8_4hf5xNgg",
        "colab_type": "text"
      },
      "source": [
        "**Covertendo em um dicionário**"
      ]
    },
    {
      "cell_type": "code",
      "metadata": {
        "id": "SIuGqoW0xQ_b",
        "colab_type": "code",
        "colab": {}
      },
      "source": [
        "dict_features = list(features.to_dict(\"index\").values())"
      ],
      "execution_count": 0,
      "outputs": []
    },
    {
      "cell_type": "code",
      "metadata": {
        "id": "W5y-3FRJxTEq",
        "colab_type": "code",
        "colab": {
          "base_uri": "https://localhost:8080/",
          "height": 51
        },
        "outputId": "c72b17a0-f2c5-42d2-d47e-f50500b8f8d1"
      },
      "source": [
        "dict_features[0:2]"
      ],
      "execution_count": 10,
      "outputs": [
        {
          "output_type": "execute_result",
          "data": {
            "text/plain": [
              "[{'no2': 14.1, 'pm10': 98.67, 'so2': 44.38, 'soot': 34.81},\n",
              " {'no2': 14.1, 'pm10': 52.33, 'so2': 29.75, 'soot': 33.06}]"
            ]
          },
          "metadata": {
            "tags": []
          },
          "execution_count": 10
        }
      ]
    },
    {
      "cell_type": "markdown",
      "metadata": {
        "id": "CLuMdzrwxXRX",
        "colab_type": "text"
      },
      "source": [
        "**Definindo metadados**"
      ]
    },
    {
      "cell_type": "code",
      "metadata": {
        "id": "Tq2GHzzjxa3e",
        "colab_type": "code",
        "colab": {
          "base_uri": "https://localhost:8080/",
          "height": 88
        },
        "outputId": "c490e58e-2815-4ed7-c6f4-9e266525fbef"
      },
      "source": [
        "data_metadata = dataset_metadata.DatasetMetadata(dataset_schema.from_feature_spec({\n",
        "    \"no2\": tf.io.FixedLenFeature([], tf.float32),\n",
        "    \"pm10\": tf.io.FixedLenFeature([], tf.float32),\n",
        "    \"so2\": tf.io.FixedLenFeature([], tf.float32),\n",
        "    \"soot\": tf.io.FixedLenFeature([], tf.float32),\n",
        "}))"
      ],
      "execution_count": 11,
      "outputs": [
        {
          "output_type": "stream",
          "text": [
            "WARNING:tensorflow:From <ipython-input-11-e96c9b286142>:5: from_feature_spec (from tensorflow_transform.tf_metadata.dataset_schema) is deprecated and will be removed in a future version.\n",
            "Instructions for updating:\n",
            "from_feature_spec is a deprecated, use schema_utils.schema_from_feature_spec\n"
          ],
          "name": "stdout"
        }
      ]
    },
    {
      "cell_type": "code",
      "metadata": {
        "id": "VMjxYuuYxdwA",
        "colab_type": "code",
        "colab": {
          "base_uri": "https://localhost:8080/",
          "height": 646
        },
        "outputId": "9ac0f5da-c0ed-40de-d8ab-21ed72a1284e"
      },
      "source": [
        "data_metadata"
      ],
      "execution_count": 12,
      "outputs": [
        {
          "output_type": "execute_result",
          "data": {
            "text/plain": [
              "{'_schema': feature {\n",
              "  name: \"no2\"\n",
              "  type: FLOAT\n",
              "  presence {\n",
              "    min_fraction: 1.0\n",
              "  }\n",
              "  shape {\n",
              "  }\n",
              "}\n",
              "feature {\n",
              "  name: \"pm10\"\n",
              "  type: FLOAT\n",
              "  presence {\n",
              "    min_fraction: 1.0\n",
              "  }\n",
              "  shape {\n",
              "  }\n",
              "}\n",
              "feature {\n",
              "  name: \"so2\"\n",
              "  type: FLOAT\n",
              "  presence {\n",
              "    min_fraction: 1.0\n",
              "  }\n",
              "  shape {\n",
              "  }\n",
              "}\n",
              "feature {\n",
              "  name: \"soot\"\n",
              "  type: FLOAT\n",
              "  presence {\n",
              "    min_fraction: 1.0\n",
              "  }\n",
              "  shape {\n",
              "  }\n",
              "}\n",
              "}"
            ]
          },
          "metadata": {
            "tags": []
          },
          "execution_count": 12
        }
      ]
    },
    {
      "cell_type": "markdown",
      "metadata": {
        "id": "9is-CPPZxxEM",
        "colab_type": "text"
      },
      "source": [
        "**Função de Pré-processamento**"
      ]
    },
    {
      "cell_type": "code",
      "metadata": {
        "id": "0WpSO_Wxx1b4",
        "colab_type": "code",
        "colab": {}
      },
      "source": [
        "def preprocessing_fn(inputs):\n",
        "  no2 = inputs[\"no2\"]\n",
        "  pm10 = inputs[\"pm10\"]\n",
        "  so2 = inputs[\"so2\"]\n",
        "  soot = inputs[\"soot\"]\n",
        "  \n",
        "  no2_normalized = no2 - tft.mean(no2)\n",
        "  so2_normalized = so2 - tft.mean(so2)\n",
        "  \n",
        "  pm10_normalized = tft.scale_to_0_1(pm10)\n",
        "  soot_normalized = tft.scale_by_min_max(soot)\n",
        "  \n",
        "  return {\n",
        "      \"no2_normalized\": no2_normalized,\n",
        "      \"so2_normalized\": so2_normalized,\n",
        "      \"pm10_normalized\": pm10_normalized,\n",
        "      \"sott_normalized\": soot_normalized\n",
        "  }"
      ],
      "execution_count": 0,
      "outputs": []
    },
    {
      "cell_type": "markdown",
      "metadata": {
        "id": "FoqWclsdx8o8",
        "colab_type": "text"
      },
      "source": [
        "**Codificando**\n",
        "\n",
        "Tensorflow Transform use Apache Beam background to perform operations.\n",
        "\n",
        "Function parameters:\n",
        "\n",
        "dict_features - Our database converted to dict\n",
        "data_metadata - Defined metadata\n",
        "preprocessing_fn - preprocessing function\n",
        "\n",
        "\n",
        "Apache Beam Syntax\n",
        "\n",
        "result = data_to_pass | where_to_pass_the_data\n",
        "Explaining:\n",
        "\n",
        "result -> transformed_dataset, transform_fn\n",
        "\n",
        "data_to_pass -> (dict_features, data_metadata)\n",
        "\n",
        "where_to_pass_the_data -> tft_beam.AnalyzeAndTransformDataset(preprocessing_fn)\n",
        "\n",
        "transformed_dataset, transform_fn = ((dict_features, data_metadata) | tft_beam.AnalyzeAndTransformDataset(preprocessing_fn))\n",
        "\n",
        "**Referências**:\n",
        "\n",
        "[Apache Beam]( https://beam.apache.org/documentation/programming-guide/)"
      ]
    },
    {
      "cell_type": "code",
      "metadata": {
        "id": "zBeDJIC_x75K",
        "colab_type": "code",
        "colab": {}
      },
      "source": [
        "def data_transform():\n",
        "  with tft_beam.Context(temp_dir = tempfile.mkdtemp()):\n",
        "    transformed_dataset, transform_fn = ((dict_features, data_metadata) | tft_beam.AnalyzeAndTransformDataset(preprocessing_fn))\n",
        "    \n",
        "  transformed_data, transformed_metadata = transformed_dataset\n",
        "  \n",
        "  for i in range(len(transformed_data)):\n",
        "    print(\"Initial: \", dict_features[i])\n",
        "    print(\"Transformed: \", transformed_data[i])"
      ],
      "execution_count": 0,
      "outputs": []
    },
    {
      "cell_type": "code",
      "metadata": {
        "id": "GUmjGKkaySaG",
        "colab_type": "code",
        "colab": {
          "base_uri": "https://localhost:8080/",
          "height": 34
        },
        "outputId": "4d2c5ef7-d4f7-407a-b492-da8ee201c272"
      },
      "source": [
        "data_transform"
      ],
      "execution_count": 16,
      "outputs": [
        {
          "output_type": "execute_result",
          "data": {
            "text/plain": [
              "<function __main__.data_transform>"
            ]
          },
          "metadata": {
            "tags": []
          },
          "execution_count": 16
        }
      ]
    }
  ]
}